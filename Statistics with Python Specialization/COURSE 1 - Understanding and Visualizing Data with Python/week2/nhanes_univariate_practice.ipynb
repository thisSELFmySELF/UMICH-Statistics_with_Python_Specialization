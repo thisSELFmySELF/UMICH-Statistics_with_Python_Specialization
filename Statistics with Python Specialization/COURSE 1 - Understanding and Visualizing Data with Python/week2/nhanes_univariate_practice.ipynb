{
 "cells": [
  {
   "cell_type": "markdown",
   "metadata": {},
   "source": [
    "# Practice notebook for univariate analysis using NHANES data\n",
    "\n",
    "This notebook will give you the opportunity to perform some univariate analyses on your own using the NHANES.  These analyses are similar to what was done in the week 2 NHANES case study notebook.\n",
    "\n",
    "You can enter your code into the cells that say \"enter your code here\", and you can type responses to the questions into the cells that say \"Type Markdown and Latex\".\n",
    "\n",
    "Note that most of the code that you will need to write below is very similar to code that appears in the case study notebook.  You will need to edit code from that notebook in small ways to adapt it to the prompts below.\n",
    "\n",
    "To get started, we will use the same module imports and read the data in the same way as we did in the case study:"
   ]
  },
  {
   "cell_type": "code",
   "execution_count": 1,
   "metadata": {},
   "outputs": [
    {
     "data": {
      "text/html": [
       "<div>\n",
       "<style scoped>\n",
       "    .dataframe tbody tr th:only-of-type {\n",
       "        vertical-align: middle;\n",
       "    }\n",
       "\n",
       "    .dataframe tbody tr th {\n",
       "        vertical-align: top;\n",
       "    }\n",
       "\n",
       "    .dataframe thead th {\n",
       "        text-align: right;\n",
       "    }\n",
       "</style>\n",
       "<table border=\"1\" class=\"dataframe\">\n",
       "  <thead>\n",
       "    <tr style=\"text-align: right;\">\n",
       "      <th></th>\n",
       "      <th>SEQN</th>\n",
       "      <th>ALQ101</th>\n",
       "      <th>ALQ110</th>\n",
       "      <th>ALQ130</th>\n",
       "      <th>SMQ020</th>\n",
       "      <th>RIAGENDR</th>\n",
       "      <th>RIDAGEYR</th>\n",
       "      <th>RIDRETH1</th>\n",
       "      <th>DMDCITZN</th>\n",
       "      <th>DMDEDUC2</th>\n",
       "      <th>...</th>\n",
       "      <th>BPXSY2</th>\n",
       "      <th>BPXDI2</th>\n",
       "      <th>BMXWT</th>\n",
       "      <th>BMXHT</th>\n",
       "      <th>BMXBMI</th>\n",
       "      <th>BMXLEG</th>\n",
       "      <th>BMXARML</th>\n",
       "      <th>BMXARMC</th>\n",
       "      <th>BMXWAIST</th>\n",
       "      <th>HIQ210</th>\n",
       "    </tr>\n",
       "  </thead>\n",
       "  <tbody>\n",
       "    <tr>\n",
       "      <th>0</th>\n",
       "      <td>83732</td>\n",
       "      <td>1.0</td>\n",
       "      <td>NaN</td>\n",
       "      <td>1.0</td>\n",
       "      <td>1</td>\n",
       "      <td>1</td>\n",
       "      <td>62</td>\n",
       "      <td>3</td>\n",
       "      <td>1.0</td>\n",
       "      <td>5.0</td>\n",
       "      <td>...</td>\n",
       "      <td>124.0</td>\n",
       "      <td>64.0</td>\n",
       "      <td>94.8</td>\n",
       "      <td>184.5</td>\n",
       "      <td>27.8</td>\n",
       "      <td>43.3</td>\n",
       "      <td>43.6</td>\n",
       "      <td>35.9</td>\n",
       "      <td>101.1</td>\n",
       "      <td>2.0</td>\n",
       "    </tr>\n",
       "    <tr>\n",
       "      <th>1</th>\n",
       "      <td>83733</td>\n",
       "      <td>1.0</td>\n",
       "      <td>NaN</td>\n",
       "      <td>6.0</td>\n",
       "      <td>1</td>\n",
       "      <td>1</td>\n",
       "      <td>53</td>\n",
       "      <td>3</td>\n",
       "      <td>2.0</td>\n",
       "      <td>3.0</td>\n",
       "      <td>...</td>\n",
       "      <td>140.0</td>\n",
       "      <td>88.0</td>\n",
       "      <td>90.4</td>\n",
       "      <td>171.4</td>\n",
       "      <td>30.8</td>\n",
       "      <td>38.0</td>\n",
       "      <td>40.0</td>\n",
       "      <td>33.2</td>\n",
       "      <td>107.9</td>\n",
       "      <td>NaN</td>\n",
       "    </tr>\n",
       "    <tr>\n",
       "      <th>2</th>\n",
       "      <td>83734</td>\n",
       "      <td>1.0</td>\n",
       "      <td>NaN</td>\n",
       "      <td>NaN</td>\n",
       "      <td>1</td>\n",
       "      <td>1</td>\n",
       "      <td>78</td>\n",
       "      <td>3</td>\n",
       "      <td>1.0</td>\n",
       "      <td>3.0</td>\n",
       "      <td>...</td>\n",
       "      <td>132.0</td>\n",
       "      <td>44.0</td>\n",
       "      <td>83.4</td>\n",
       "      <td>170.1</td>\n",
       "      <td>28.8</td>\n",
       "      <td>35.6</td>\n",
       "      <td>37.0</td>\n",
       "      <td>31.0</td>\n",
       "      <td>116.5</td>\n",
       "      <td>2.0</td>\n",
       "    </tr>\n",
       "    <tr>\n",
       "      <th>3</th>\n",
       "      <td>83735</td>\n",
       "      <td>2.0</td>\n",
       "      <td>1.0</td>\n",
       "      <td>1.0</td>\n",
       "      <td>2</td>\n",
       "      <td>2</td>\n",
       "      <td>56</td>\n",
       "      <td>3</td>\n",
       "      <td>1.0</td>\n",
       "      <td>5.0</td>\n",
       "      <td>...</td>\n",
       "      <td>134.0</td>\n",
       "      <td>68.0</td>\n",
       "      <td>109.8</td>\n",
       "      <td>160.9</td>\n",
       "      <td>42.4</td>\n",
       "      <td>38.5</td>\n",
       "      <td>37.7</td>\n",
       "      <td>38.3</td>\n",
       "      <td>110.1</td>\n",
       "      <td>2.0</td>\n",
       "    </tr>\n",
       "    <tr>\n",
       "      <th>4</th>\n",
       "      <td>83736</td>\n",
       "      <td>2.0</td>\n",
       "      <td>1.0</td>\n",
       "      <td>1.0</td>\n",
       "      <td>2</td>\n",
       "      <td>2</td>\n",
       "      <td>42</td>\n",
       "      <td>4</td>\n",
       "      <td>1.0</td>\n",
       "      <td>4.0</td>\n",
       "      <td>...</td>\n",
       "      <td>114.0</td>\n",
       "      <td>54.0</td>\n",
       "      <td>55.2</td>\n",
       "      <td>164.9</td>\n",
       "      <td>20.3</td>\n",
       "      <td>37.4</td>\n",
       "      <td>36.0</td>\n",
       "      <td>27.2</td>\n",
       "      <td>80.4</td>\n",
       "      <td>2.0</td>\n",
       "    </tr>\n",
       "  </tbody>\n",
       "</table>\n",
       "<p>5 rows × 28 columns</p>\n",
       "</div>"
      ],
      "text/plain": [
       "    SEQN  ALQ101  ALQ110  ALQ130  SMQ020  RIAGENDR  RIDAGEYR  RIDRETH1  \\\n",
       "0  83732     1.0     NaN     1.0       1         1        62         3   \n",
       "1  83733     1.0     NaN     6.0       1         1        53         3   \n",
       "2  83734     1.0     NaN     NaN       1         1        78         3   \n",
       "3  83735     2.0     1.0     1.0       2         2        56         3   \n",
       "4  83736     2.0     1.0     1.0       2         2        42         4   \n",
       "\n",
       "   DMDCITZN  DMDEDUC2  ...  BPXSY2  BPXDI2  BMXWT  BMXHT  BMXBMI  BMXLEG  \\\n",
       "0       1.0       5.0  ...   124.0    64.0   94.8  184.5    27.8    43.3   \n",
       "1       2.0       3.0  ...   140.0    88.0   90.4  171.4    30.8    38.0   \n",
       "2       1.0       3.0  ...   132.0    44.0   83.4  170.1    28.8    35.6   \n",
       "3       1.0       5.0  ...   134.0    68.0  109.8  160.9    42.4    38.5   \n",
       "4       1.0       4.0  ...   114.0    54.0   55.2  164.9    20.3    37.4   \n",
       "\n",
       "   BMXARML  BMXARMC  BMXWAIST  HIQ210  \n",
       "0     43.6     35.9     101.1     2.0  \n",
       "1     40.0     33.2     107.9     NaN  \n",
       "2     37.0     31.0     116.5     2.0  \n",
       "3     37.7     38.3     110.1     2.0  \n",
       "4     36.0     27.2      80.4     2.0  \n",
       "\n",
       "[5 rows x 28 columns]"
      ]
     },
     "execution_count": 1,
     "metadata": {},
     "output_type": "execute_result"
    }
   ],
   "source": [
    "%matplotlib inline\n",
    "import matplotlib.pyplot as plt\n",
    "import seaborn as sns\n",
    "import pandas as pd\n",
    "# import statsmodels.api as sm\n",
    "import numpy as np\n",
    "from scipy.stats import iqr\n",
    "\n",
    "da = pd.read_csv(\"nhanes_2015_2016.csv\")\n",
    "da.head()"
   ]
  },
  {
   "cell_type": "markdown",
   "metadata": {},
   "source": [
    "## Question 1\n",
    "\n",
    "Relabel the marital status variable [DMDMARTL](https://wwwn.cdc.gov/Nchs/Nhanes/2015-2016/DEMO_I.htm#DMDMARTL) to have brief but informative character labels.  Then construct a frequency table of these values for all people, then for women only, and for men only.  Then construct these three frequency tables using only people whose age is between 30 and 40."
   ]
  },
  {
   "cell_type": "code",
   "execution_count": 2,
   "metadata": {},
   "outputs": [
    {
     "data": {
      "text/plain": [
       "1.0     2780\n",
       "5.0     1004\n",
       "3.0      579\n",
       "6.0      527\n",
       "2.0      396\n",
       "4.0      186\n",
       "77.0       2\n",
       "Name: DMDMARTL, dtype: int64"
      ]
     },
     "execution_count": 2,
     "metadata": {},
     "output_type": "execute_result"
    }
   ],
   "source": [
    "da.DMDMARTL.value_counts()"
   ]
  },
  {
   "cell_type": "code",
   "execution_count": 3,
   "metadata": {},
   "outputs": [
    {
     "name": "stdout",
     "output_type": "stream",
     "text": [
      "5474\n",
      "5374\n",
      "(5735, 28)\n"
     ]
    }
   ],
   "source": [
    "print(da.DMDMARTL.value_counts().sum())\n",
    "print(2780 + 1004 + 579 + 527 + 296 + 186 + 2)\n",
    "print(da.shape)"
   ]
  },
  {
   "cell_type": "code",
   "execution_count": 4,
   "metadata": {},
   "outputs": [
    {
     "data": {
      "text/plain": [
       "261"
      ]
     },
     "execution_count": 4,
     "metadata": {},
     "output_type": "execute_result"
    }
   ],
   "source": [
    "pd.isnull(da.DMDMARTL).sum()"
   ]
  },
  {
   "cell_type": "code",
   "execution_count": 5,
   "metadata": {},
   "outputs": [
    {
     "data": {
      "text/plain": [
       "Married                2780\n",
       "Never married          1004\n",
       "Divorced                579\n",
       "Living with partner     527\n",
       "Widowed                 396\n",
       "Separated               186\n",
       "Refused                   2\n",
       "Name: DMDMARTLx, dtype: int64"
      ]
     },
     "execution_count": 5,
     "metadata": {},
     "output_type": "execute_result"
    }
   ],
   "source": [
    "da[\"DMDMARTLx\"] = da.DMDMARTL.replace({1: \"Married\", 2: \"Widowed\", 3: \"Divorced\", 4: \"Separated\", 5: \"Never married\", \n",
    "                                       6: \"Living with partner\",77: \"Refused\"})\n",
    "da.DMDMARTLx.value_counts()"
   ]
  },
  {
   "cell_type": "code",
   "execution_count": 6,
   "metadata": {},
   "outputs": [
    {
     "data": {
      "text/plain": [
       "Married                0.507855\n",
       "Never married          0.183412\n",
       "Divorced               0.105773\n",
       "Living with partner    0.096273\n",
       "Widowed                0.072342\n",
       "Separated              0.033979\n",
       "Refused                0.000365\n",
       "Name: DMDMARTLx, dtype: float64"
      ]
     },
     "execution_count": 6,
     "metadata": {},
     "output_type": "execute_result"
    }
   ],
   "source": [
    "x = da.DMDMARTLx.value_counts()  # x is just a name to hold this value temporarily\n",
    "x / x.sum()"
   ]
  },
  {
   "cell_type": "code",
   "execution_count": 7,
   "metadata": {},
   "outputs": [
    {
     "data": {
      "text/plain": [
       "Married                0.484743\n",
       "Never married          0.175065\n",
       "Divorced               0.100959\n",
       "Living with partner    0.091892\n",
       "Widowed                0.069050\n",
       "Missing                0.045510\n",
       "Separated              0.032432\n",
       "Refused                0.000349\n",
       "Name: DMDMARTLx, dtype: float64"
      ]
     },
     "execution_count": 7,
     "metadata": {},
     "output_type": "execute_result"
    }
   ],
   "source": [
    "da[\"DMDMARTLx\"] = da.DMDMARTLx.fillna(\"Missing\")\n",
    "x = da.DMDMARTLx.value_counts()\n",
    "x / x.sum()"
   ]
  },
  {
   "cell_type": "code",
   "execution_count": 8,
   "metadata": {},
   "outputs": [],
   "source": [
    "da[\"RIAGENDRx\"] = da.RIAGENDR.replace({1: \"Male\", 2: \"Female\"})"
   ]
  },
  {
   "cell_type": "code",
   "execution_count": 9,
   "metadata": {},
   "outputs": [
    {
     "data": {
      "text/plain": [
       "<AxesSubplot:xlabel='count', ylabel='DMDMARTLx'>"
      ]
     },
     "execution_count": 9,
     "metadata": {},
     "output_type": "execute_result"
    },
    {
     "data": {
      "image/png": "[encoded data removed]",
      "text/plain": [
       "<Figure size 432x288 with 1 Axes>"
      ]
     },
     "metadata": {
      "needs_background": "light"
     },
     "output_type": "display_data"
    }
   ],
   "source": [
    "sns.countplot(y=da['DMDMARTLx'])"
   ]
  },
  {
   "cell_type": "code",
   "execution_count": 10,
   "metadata": {},
   "outputs": [
    {
     "data": {
      "image/png": "[encoded data removed]",
      "text/plain": [
       "<Figure size 1080x576 with 1 Axes>"
      ]
     },
     "metadata": {
      "needs_background": "light"
     },
     "output_type": "display_data"
    }
   ],
   "source": [
    "da.groupby(['RIAGENDRx','DMDMARTLx']).size().unstack(fill_value=0).plot.bar(figsize = (15,8))\n",
    "plt.show()"
   ]
  },
  {
   "cell_type": "code",
   "execution_count": 11,
   "metadata": {},
   "outputs": [
    {
     "data": {
      "image/png": "[encoded data removed]",
      "text/plain": [
       "<Figure size 1080x576 with 1 Axes>"
      ]
     },
     "metadata": {
      "needs_background": "light"
     },
     "output_type": "display_data"
    }
   ],
   "source": [
    "da[\"agegrp\"] = pd.cut(da.RIDAGEYR, [18, 30, 40, 50, 60, 70, 80])\n",
    "\n",
    "da.groupby(['agegrp', 'DMDMARTLx']).size().unstack(fill_value=0).plot.bar(figsize = (15,8))\n",
    "plt.show()"
   ]
  },
  {
   "cell_type": "code",
   "execution_count": 12,
   "metadata": {},
   "outputs": [
    {
     "name": "stdout",
     "output_type": "stream",
     "text": [
      "DMDMARTLx           Divorced  Living with partner  Married  Never married  Refused  Separated  Widowed\n",
      "agegrp   RIAGENDRx                                                                                    \n",
      "(18, 30] Female     0.019892             0.206148 0.285714       0.468354      NaN   0.019892      NaN\n",
      "         Male       0.004237             0.201271 0.220339       0.555085      NaN   0.014831 0.004237\n",
      "(30, 40] Female     0.090717             0.120253 0.544304       0.204641      NaN   0.035865 0.004219\n",
      "         Male       0.052402             0.157205 0.563319       0.194323 0.002183   0.026201 0.004367\n",
      "(40, 50] Female     0.137450             0.073705 0.573705       0.125498      NaN   0.065737 0.023904\n",
      "         Male       0.084788             0.082294 0.703242       0.097257      NaN   0.027431 0.004988\n",
      "(50, 60] Female     0.176596             0.068085 0.546809       0.089362 0.002128   0.057447 0.059574\n",
      "         Male       0.125551             0.074890 0.651982       0.103524      NaN   0.022026 0.022026\n",
      "(60, 70] Female     0.192744             0.043084 0.480726       0.086168      NaN   0.049887 0.147392\n",
      "         Male       0.125858             0.050343 0.665904       0.086957      NaN   0.032037 0.038902\n",
      "(70, 80] Female     0.143902             0.007317 0.317073       0.051220      NaN   0.019512 0.460976\n",
      "         Male       0.141791             0.022388 0.611940       0.022388      NaN   0.034826 0.166667\n"
     ]
    }
   ],
   "source": [
    "dx = da.loc[~da['DMDMARTLx'].isin(['Missing']), :]\n",
    "dx = dx.groupby(['agegrp', 'RIAGENDRx'])['DMDMARTLx']\n",
    "dx = dx.value_counts()\n",
    "dx = dx.unstack()\n",
    "dx = dx.apply(lambda x: x/x.sum(), axis = 1)\n",
    "print(dx.to_string(float_format= \"%3f\"))"
   ]
  },
  {
   "cell_type": "code",
   "execution_count": 13,
   "metadata": {},
   "outputs": [],
   "source": [
    "female_df = pd.DataFrame()\n",
    "female_df = da[da['RIAGENDRx'] == 'Female']"
   ]
  },
  {
   "cell_type": "code",
   "execution_count": 14,
   "metadata": {},
   "outputs": [
    {
     "name": "stderr",
     "output_type": "stream",
     "text": [
      "/var/folders/0h/674kd08n4x31w0wzlnb63lr40000gn/T/ipykernel_8004/1181014241.py:1: SettingWithCopyWarning: \n",
      "A value is trying to be set on a copy of a slice from a DataFrame.\n",
      "Try using .loc[row_indexer,col_indexer] = value instead\n",
      "\n",
      "See the caveats in the documentation: https://pandas.pydata.org/pandas-docs/stable/user_guide/indexing.html#returning-a-view-versus-a-copy\n",
      "  female_df[\"agegrp\"] = pd.cut(female_df.RIDAGEYR, [18, 20, 30, 40, 50, 60, 70, 80])\n"
     ]
    },
    {
     "data": {
      "image/png": "[encoded data removed]",
      "text/plain": [
       "<Figure size 1080x576 with 1 Axes>"
      ]
     },
     "metadata": {
      "needs_background": "light"
     },
     "output_type": "display_data"
    }
   ],
   "source": [
    "female_df[\"agegrp\"] = pd.cut(female_df.RIDAGEYR, [18, 20, 30, 40, 50, 60, 70, 80])\n",
    "\n",
    "female_df.groupby(['agegrp', 'DMDMARTLx']).size().unstack(fill_value=0).plot.bar(figsize = (15,8))\n",
    "plt.show()"
   ]
  },
  {
   "cell_type": "code",
   "execution_count": 15,
   "metadata": {},
   "outputs": [],
   "source": [
    "male_df = pd.DataFrame()\n",
    "male_df = da[da['RIAGENDRx'] == 'Male']"
   ]
  },
  {
   "cell_type": "code",
   "execution_count": 16,
   "metadata": {},
   "outputs": [
    {
     "name": "stderr",
     "output_type": "stream",
     "text": [
      "/var/folders/0h/674kd08n4x31w0wzlnb63lr40000gn/T/ipykernel_8004/621851830.py:1: SettingWithCopyWarning: \n",
      "A value is trying to be set on a copy of a slice from a DataFrame.\n",
      "Try using .loc[row_indexer,col_indexer] = value instead\n",
      "\n",
      "See the caveats in the documentation: https://pandas.pydata.org/pandas-docs/stable/user_guide/indexing.html#returning-a-view-versus-a-copy\n",
      "  male_df[\"agegrp\"] = pd.cut(male_df.RIDAGEYR, [18, 20, 30, 40, 50, 60, 70, 80])\n"
     ]
    },
    {
     "data": {
      "image/png": "[encoded data removed]",
      "text/plain": [
       "<Figure size 1080x576 with 1 Axes>"
      ]
     },
     "metadata": {
      "needs_background": "light"
     },
     "output_type": "display_data"
    }
   ],
   "source": [
    "male_df[\"agegrp\"] = pd.cut(male_df.RIDAGEYR, [18, 20, 30, 40, 50, 60, 70, 80])\n",
    "\n",
    "male_df.groupby(['agegrp', 'DMDMARTLx']).size().unstack(fill_value=0).plot.bar(figsize = (15,8))\n",
    "plt.show()"
   ]
  },
  {
   "cell_type": "code",
   "execution_count": 17,
   "metadata": {},
   "outputs": [],
   "source": [
    "# selections =  (da.RIDAGEYR <= 40) & (da.RIDAGEYR >= 30)\n",
    "\n",
    "# freq_all = da.where(selections).MARISTAT.value_counts()\n",
    "# freq_all"
   ]
  },
  {
   "cell_type": "code",
   "execution_count": 18,
   "metadata": {},
   "outputs": [],
   "source": [
    "# selections = (da['RIAGENDR'] == 1)\n",
    "# male = da.where(selections).MARISTAT.value_counts()\n",
    "# male"
   ]
  },
  {
   "cell_type": "code",
   "execution_count": 19,
   "metadata": {},
   "outputs": [],
   "source": [
    "# selections = (da['RIAGENDR'] == 1) & (da.RIDAGEYR <= 40) & (da.RIDAGEYR >= 30)\n",
    "\n",
    "# freq_male = da.where(selections).MARISTAT.value_counts()\n",
    "# freq_male"
   ]
  },
  {
   "cell_type": "code",
   "execution_count": 20,
   "metadata": {},
   "outputs": [],
   "source": [
    "# selections = (da['RIAGENDR'] == 2)\n",
    "# female = da.where(selections).MARISTAT.value_counts()\n",
    "# female"
   ]
  },
  {
   "cell_type": "code",
   "execution_count": 21,
   "metadata": {},
   "outputs": [],
   "source": [
    "# selections = (da['RIAGENDR'] == 2) & (da.RIDAGEYR <= 40) & (da.RIDAGEYR >= 30)\n",
    "\n",
    "# freq_female = da.where(selections).MARISTAT.value_counts()\n",
    "# freq_female"
   ]
  },
  {
   "cell_type": "code",
   "execution_count": 22,
   "metadata": {},
   "outputs": [],
   "source": [
    "# # subset the data to include only females\n",
    "# da = da.where(da.RIAGENDRx == 'Female')\n",
    "\n",
    "# # cut age into bands no wider than 10 years\n",
    "# da['agegrp'] = pd.cut(da.RIDAGEYR, [20, 30, 40, 50, 60, 70, 80])\n",
    "\n",
    "# # Eliminate rare/missing values\n",
    "# dx = da.loc[~da.DMDMARTLx.isin([\"Don't know\", \"Missing\"]), :]  \n",
    "\n",
    "# # group marital status by age group band\n",
    "# dx = dx.groupby([\"agegrp\"])[\"DMDMARTLx\"]\n",
    "\n",
    "# # obtain the counts for marital status within each age group band\n",
    "# dx = dx.value_counts()\n",
    "\n",
    "# dx = dx.unstack() # Restructure the results from 'long' to 'wide'\n",
    "# dx = dx.apply(lambda x: x/x.sum(), axis=1) # Normalize within each stratum to get proportions\n",
    "# print(dx.to_string(float_format=\"%.3f\"))  # Limit display to 3 decimal places"
   ]
  },
  {
   "cell_type": "markdown",
   "metadata": {},
   "source": [
    "__Q1a.__ Briefly comment on some of the differences that you observe between the distribution of marital status between women and men, for people of all ages."
   ]
  },
  {
   "cell_type": "raw",
   "metadata": {},
   "source": [
    "We notice that both graphs are unimodal with most men and women being married. The number of observation of Male members is more than the Female members. One thing we see is when looking at the Divorced and Living with Partner sections, There are more Divorced women than those who Live with their partners. It is the other way round for men."
   ]
  },
  {
   "cell_type": "markdown",
   "metadata": {},
   "source": [
    "__Q1b.__ Briefly comment on the differences that you observe between the distribution of marital status states for women between the overall population, and for women between the ages of 30 and 40."
   ]
  },
  {
   "cell_type": "raw",
   "metadata": {},
   "source": [
    "in the overall distribution of women, we notice that more women are divorced as compared to those who live with their partners. On the other hand, in the 30-40 age group, more of them tend to live with their partners and less of them are divorced. We also notice that in the 30-40 age group, more of them are separated than widowed. This may be because their partners are still relatively younger."
   ]
  },
  {
   "cell_type": "markdown",
   "metadata": {},
   "source": [
    "__Q1c.__ Repeat part b for the men."
   ]
  },
  {
   "cell_type": "raw",
   "metadata": {},
   "source": [
    "In the overall case, more men tend to live with their partners than they are divorced. Very few of them are separated or widowed, maybe because women tend to live longer than men. In the 30-40 age bracket, we notice that the gap between men being separated and widowed is relatively larger than the overall case of all men. Also, the number of men living with their partners is almost three times the number of men divorced, which is interesting as in the overall case, these numbers aren't very far apart."
   ]
  },
  {
   "cell_type": "markdown",
   "metadata": {},
   "source": [
    "## Question 2\n",
    "\n",
    "Restricting to the female population, stratify the subjects into age bands no wider than ten years, and construct the distribution of marital status within each age band.  Within each age band, present the distribution in terms of proportions that must sum to 1."
   ]
  },
  {
   "cell_type": "code",
   "execution_count": 23,
   "metadata": {},
   "outputs": [
    {
     "data": {
      "image/png": "[encoded data removed]",
      "text/plain": [
       "<Figure size 1080x576 with 1 Axes>"
      ]
     },
     "metadata": {
      "needs_background": "light"
     },
     "output_type": "display_data"
    }
   ],
   "source": [
    "female_df.groupby(['agegrp', 'DMDMARTLx']).size().unstack(fill_value=0).plot.bar(figsize = (15,8))\n",
    "plt.show()"
   ]
  },
  {
   "cell_type": "code",
   "execution_count": 24,
   "metadata": {},
   "outputs": [
    {
     "name": "stdout",
     "output_type": "stream",
     "text": [
      "DMDMARTLx  Divorced  Living with partner  Married  Never married  Refused  Separated  Widowed\n",
      "agegrp                                                                                       \n",
      "(18, 20]        NaN             0.205128 0.025641       0.769231      NaN        NaN      NaN\n",
      "(20, 30]   0.021401             0.206226 0.305447       0.445525      NaN   0.021401      NaN\n",
      "(30, 40]   0.090717             0.120253 0.544304       0.204641      NaN   0.035865 0.004219\n",
      "(40, 50]   0.137450             0.073705 0.573705       0.125498      NaN   0.065737 0.023904\n",
      "(50, 60]   0.176596             0.068085 0.546809       0.089362 0.002128   0.057447 0.059574\n",
      "(60, 70]   0.192744             0.043084 0.480726       0.086168      NaN   0.049887 0.147392\n",
      "(70, 80]   0.143902             0.007317 0.317073       0.051220      NaN   0.019512 0.460976\n"
     ]
    }
   ],
   "source": [
    "female_dx = female_df.loc[~female_df['DMDMARTLx'].isin(['Missing']), :]\n",
    "female_dx = female_dx.groupby(['agegrp'])['DMDMARTLx']\n",
    "female_dx = female_dx.value_counts()\n",
    "female_dx = female_dx.unstack()\n",
    "female_dx = female_dx.apply(lambda x: x/x.sum(), axis = 1)\n",
    "print(female_dx.to_string(float_format= \"%3f\"))"
   ]
  },
  {
   "cell_type": "markdown",
   "metadata": {},
   "source": [
    "__Q2a.__ Comment on the trends that you see in this series of marginal distributions."
   ]
  },
  {
   "cell_type": "raw",
   "metadata": {},
   "source": [
    "We see that as age increases, the number of females who get divorced increases up to the age of 70 and then at the age group of 70-80, comparatively less number of people get divorced. We also notice that as age increases, the number of widows increases as well. One interesting pattern we notice is that the number of people living with their partners increases from 18-30 but then it steadily decreases with the lowest being at the age og 70-80. This may be because of them being widowed and divorced as well. Another trend is that as age increases, the people start to get married. it's almost 76% for people between 18-20 but it decreases rapidly."
   ]
  },
  {
   "cell_type": "code",
   "execution_count": 25,
   "metadata": {},
   "outputs": [
    {
     "name": "stdout",
     "output_type": "stream",
     "text": [
      "DMDMARTLx  Divorced  Living with partner  Married  Never married  Refused  Separated  Widowed\n",
      "agegrp                                                                                       \n",
      "(18, 20]        NaN             0.075000 0.025000       0.900000      NaN        NaN      NaN\n",
      "(20, 30]   0.004630             0.212963 0.238426       0.523148      NaN   0.016204 0.004630\n",
      "(30, 40]   0.052402             0.157205 0.563319       0.194323 0.002183   0.026201 0.004367\n",
      "(40, 50]   0.084788             0.082294 0.703242       0.097257      NaN   0.027431 0.004988\n",
      "(50, 60]   0.125551             0.074890 0.651982       0.103524      NaN   0.022026 0.022026\n",
      "(60, 70]   0.125858             0.050343 0.665904       0.086957      NaN   0.032037 0.038902\n",
      "(70, 80]   0.141791             0.022388 0.611940       0.022388      NaN   0.034826 0.166667\n"
     ]
    }
   ],
   "source": [
    "# insert your code here\n",
    "male_dx = male_df.loc[~male_df['DMDMARTLx'].isin(['Missing']), :]\n",
    "male_dx = male_dx.groupby(['agegrp'])['DMDMARTLx']\n",
    "male_dx = male_dx.value_counts()\n",
    "male_dx = male_dx.unstack()\n",
    "male_dx = male_dx.apply(lambda x: x/x.sum(), axis = 1)\n",
    "print(male_dx.to_string(float_format= \"%3f\"))"
   ]
  },
  {
   "cell_type": "markdown",
   "metadata": {},
   "source": [
    "__Q2b.__ Repeat the construction for males."
   ]
  },
  {
   "cell_type": "raw",
   "metadata": {},
   "source": [
    "We notice that fewer men tend to get divorced than women. More men tend to live with their partners as well, even though it reduces over time, it is still more than women. The number of men who are never married is more than the number of women as well. Less men are widowed. Probably because women tend to live longer than men. Fewer men tend to be separated as well."
   ]
  },
  {
   "cell_type": "markdown",
   "metadata": {},
   "source": [
    "__Q2c.__ Comment on any notable differences that you see when comparing these results for females and for males."
   ]
  },
  {
   "cell_type": "raw",
   "metadata": {},
   "source": [
    "Lesser men in the 70,80 age bracket are widowed compared to women.  More men stay married in that age bracket as compared to women."
   ]
  },
  {
   "cell_type": "markdown",
   "metadata": {},
   "source": [
    "## Question 3\n",
    "\n",
    "Construct a histogram of the distribution of heights using the BMXHT variable in the NHANES sample."
   ]
  },
  {
   "cell_type": "code",
   "execution_count": 26,
   "metadata": {},
   "outputs": [
    {
     "data": {
      "text/plain": [
       "<AxesSubplot:xlabel='BMXHT', ylabel='Count'>"
      ]
     },
     "execution_count": 26,
     "metadata": {},
     "output_type": "execute_result"
    },
    {
     "data": {
      "image/png": "[encoded data removed]",
      "text/plain": [
       "<Figure size 432x288 with 1 Axes>"
      ]
     },
     "metadata": {
      "needs_background": "light"
     },
     "output_type": "display_data"
    }
   ],
   "source": [
    "# # insert your code here\n",
    "\n",
    "bmxht_df = da[da['BMXHT'].isna() == False]\n",
    "sns.histplot(bmxht_df['BMXHT'])"
   ]
  },
  {
   "cell_type": "code",
   "execution_count": 27,
   "metadata": {},
   "outputs": [
    {
     "data": {
      "image/png": "[encoded data removed]",
      "text/plain": [
       "<Figure size 432x288 with 1 Axes>"
      ]
     },
     "metadata": {
      "needs_background": "light"
     },
     "output_type": "display_data"
    }
   ],
   "source": [
    "sns.histplot(bmxht_df['BMXHT'], bins = 100)\n",
    "plt.show()"
   ]
  },
  {
   "cell_type": "markdown",
   "metadata": {},
   "source": [
    "__Q3a.__ Use the `bins` argument to [distplot](https://seaborn.pydata.org/generated/seaborn.distplot.html) to produce histograms with different numbers of bins.  Assess whether the default value for this argument gives a meaningful result, and comment on what happens as the number of bins grows excessively large or excessively small. "
   ]
  },
  {
   "cell_type": "raw",
   "metadata": {},
   "source": [
    "The default value of bins gives a meaningful result because when we put kde=True, we get a fair idea of why the distribution has a slight dip at the top and how it goes down on either sides. When the number of bins increases, the distribution initially seems to make more sense but at excessively high number of bins, it makes no sense at all. Same goes for excessively low number of bins, it does not give enough information on why the distribution is shaped the way it is as it appears it should be uniformly distributed with very few bins."
   ]
  },
  {
   "cell_type": "markdown",
   "metadata": {},
   "source": [
    "__Q3b.__ Make separate histograms for the heights of women and men, then make a side-by-side boxplot showing the heights of women and men."
   ]
  },
  {
   "cell_type": "code",
   "execution_count": 28,
   "metadata": {},
   "outputs": [
    {
     "data": {
      "image/png": "[encoded data removed]",
      "text/plain": [
       "<Figure size 864x720 with 1 Axes>"
      ]
     },
     "metadata": {
      "needs_background": "light"
     },
     "output_type": "display_data"
    },
    {
     "data": {
      "image/png": "[encoded data removed]",
      "text/plain": [
       "<Figure size 216x432 with 2 Axes>"
      ]
     },
     "metadata": {
      "needs_background": "light"
     },
     "output_type": "display_data"
    }
   ],
   "source": [
    "# insert your code here\n",
    "\n",
    "plt.figure(figsize=(12,10))\n",
    "sns.boxplot(x = da['BMXHT'], y=da['RIAGENDRx'])\n",
    "\n",
    "g = sns.FacetGrid(da, row = 'RIAGENDRx')\n",
    "g = g.map(plt.hist, 'BMXHT')\n",
    "plt.show()"
   ]
  },
  {
   "cell_type": "markdown",
   "metadata": {},
   "source": [
    "__Q3c.__ Comment on what features, if any are not represented clearly in the boxplots, and what features, if any, are easier to see in the boxplots than in the histograms."
   ]
  },
  {
   "cell_type": "raw",
   "metadata": {},
   "source": [
    "In the boxplots, a lot of the outliers are stuck together which makes it difficult to see how many of them are there. Histograms help is noticing these outliers that have a larger count.\n",
    "\n",
    "The outliers that are not stuck together are easier to see in the boxplots than on the histograms as even though the hist has outliers, their small numbers gives them no height in the graph and it is easy to misinterpret this as not having any outliers.\n",
    "\n",
    "Both histograms and boxplots together give great analysis. Using one over the other would be bad as each has its own advantages."
   ]
  },
  {
   "cell_type": "markdown",
   "metadata": {},
   "source": [
    "## Question 4\n",
    "\n",
    "Make a boxplot showing the distribution of within-subject differences between the first and second systolic blood pressure measurents ([BPXSY1](https://wwwn.cdc.gov/Nchs/Nhanes/2015-2016/BPX_I.htm#BPXSY1) and [BPXSY2](https://wwwn.cdc.gov/Nchs/Nhanes/2015-2016/BPX_I.htm#BPXSY2))."
   ]
  },
  {
   "cell_type": "markdown",
   "metadata": {},
   "source": [
    "__Q4a.__ What proportion of the subjects have a lower SBP on the second reading compared to the first?"
   ]
  },
  {
   "cell_type": "code",
   "execution_count": 29,
   "metadata": {},
   "outputs": [
    {
     "data": {
      "text/plain": [
       "334"
      ]
     },
     "execution_count": 29,
     "metadata": {},
     "output_type": "execute_result"
    }
   ],
   "source": [
    "# insert your code here\n",
    "da['BPXSY1'].isna().sum()"
   ]
  },
  {
   "cell_type": "code",
   "execution_count": 30,
   "metadata": {},
   "outputs": [],
   "source": [
    "bpsy = pd.DataFrame()\n",
    "bpsy = da[da['BPXSY1'].isna() == False]"
   ]
  },
  {
   "cell_type": "code",
   "execution_count": 31,
   "metadata": {},
   "outputs": [
    {
     "name": "stderr",
     "output_type": "stream",
     "text": [
      "/var/folders/0h/674kd08n4x31w0wzlnb63lr40000gn/T/ipykernel_8004/3488572297.py:1: SettingWithCopyWarning: \n",
      "A value is trying to be set on a copy of a slice from a DataFrame\n",
      "\n",
      "See the caveats in the documentation: https://pandas.pydata.org/pandas-docs/stable/user_guide/indexing.html#returning-a-view-versus-a-copy\n",
      "  bpsy.dropna(inplace = True)\n"
     ]
    },
    {
     "data": {
      "text/plain": [
       "0"
      ]
     },
     "execution_count": 31,
     "metadata": {},
     "output_type": "execute_result"
    }
   ],
   "source": [
    "bpsy.dropna(inplace = True)\n",
    "bpsy.isna().sum().sum()"
   ]
  },
  {
   "cell_type": "code",
   "execution_count": 32,
   "metadata": {},
   "outputs": [
    {
     "data": {
      "text/plain": [
       "False    139\n",
       "True     120\n",
       "dtype: int64"
      ]
     },
     "execution_count": 32,
     "metadata": {},
     "output_type": "execute_result"
    }
   ],
   "source": [
    "df = bpsy['BPXSY1'] > bpsy['BPXSY2']\n",
    "df.value_counts()"
   ]
  },
  {
   "cell_type": "code",
   "execution_count": 33,
   "metadata": {},
   "outputs": [
    {
     "data": {
      "text/plain": [
       "False    139\n",
       "dtype: int64"
      ]
     },
     "execution_count": 33,
     "metadata": {},
     "output_type": "execute_result"
    }
   ],
   "source": [
    "sy2_sy1 = df[df.iloc[0:] == False]\n",
    "smaller_sy1 = sy2_sy1.value_counts()\n",
    "smaller_sy1"
   ]
  },
  {
   "cell_type": "code",
   "execution_count": 34,
   "metadata": {},
   "outputs": [
    {
     "data": {
      "text/plain": [
       "True    120\n",
       "dtype: int64"
      ]
     },
     "execution_count": 34,
     "metadata": {},
     "output_type": "execute_result"
    }
   ],
   "source": [
    "sy1_sy2 = df[df.iloc[0:] == True]\n",
    "bigger_sy1 = sy1_sy2.value_counts()\n",
    "bigger_sy1"
   ]
  },
  {
   "cell_type": "code",
   "execution_count": 35,
   "metadata": {},
   "outputs": [
    {
     "data": {
      "text/plain": [
       "0.46332046332046334"
      ]
     },
     "execution_count": 35,
     "metadata": {},
     "output_type": "execute_result"
    }
   ],
   "source": [
    "120/(120+139)"
   ]
  },
  {
   "cell_type": "raw",
   "metadata": {},
   "source": [
    "46% of people have a lower SBP on the second trail than the first one."
   ]
  },
  {
   "cell_type": "markdown",
   "metadata": {},
   "source": [
    "__Q4b.__ Make side-by-side boxplots of the two systolic blood pressure variables."
   ]
  },
  {
   "cell_type": "code",
   "execution_count": 36,
   "metadata": {},
   "outputs": [
    {
     "data": {
      "image/png": "[encoded data removed]",
      "text/plain": [
       "<Figure size 432x288 with 1 Axes>"
      ]
     },
     "metadata": {
      "needs_background": "light"
     },
     "output_type": "display_data"
    }
   ],
   "source": [
    "# insert your code here\n",
    "bp = sns.boxplot(data=da.loc[:, [\"BPXSY1\", \"BPXSY2\"]])\n",
    "_ = bp.set_ylabel(\"Blood pressure in mm/Hg\")"
   ]
  },
  {
   "cell_type": "markdown",
   "metadata": {},
   "source": [
    "__Q4c.__ Comment on the variation within either the first or second systolic blood pressure measurements, and the variation in the within-subject differences between the first and second systolic blood pressure measurements."
   ]
  },
  {
   "cell_type": "raw",
   "metadata": {},
   "source": [
    "We see that the second systolic blood pressure the median is towards the left but it is right skewed. So, more people have a lower value of the systolic blood pressure on the second test and the extremes aer a little lowers than the first one.\n",
    "\n",
    "The within-subject difference between the first and the second systolic blood pressure measurements are interesting. We see that 46% of people have a lower value of Systolic blood pressure on the second test. We also notice that the mean of both the distributions are the same, however, the second systolic test has a lower minimum of 92 and a higher maximum of 206 while the first systolic has a highter minimum of 94 and a lower maximum of 204"
   ]
  },
  {
   "cell_type": "markdown",
   "metadata": {},
   "source": [
    "## Question 5\n",
    "\n",
    "Construct a frequency table of household sizes for people within each educational attainment category (the relevant variable is [DMDEDUC2](https://wwwn.cdc.gov/Nchs/Nhanes/2015-2016/DEMO_I.htm#DMDEDUC2)).  Convert the frequencies to proportions."
   ]
  },
  {
   "cell_type": "code",
   "execution_count": 37,
   "metadata": {},
   "outputs": [
    {
     "data": {
      "text/plain": [
       "0"
      ]
     },
     "execution_count": 37,
     "metadata": {},
     "output_type": "execute_result"
    }
   ],
   "source": [
    "# insert your code here\n",
    "no_null_df = da.dropna()\n",
    "no_null_df.isna().sum().sum()"
   ]
  },
  {
   "cell_type": "code",
   "execution_count": 38,
   "metadata": {},
   "outputs": [
    {
     "data": {
      "text/plain": [
       "4.0    91\n",
       "5.0    85\n",
       "3.0    49\n",
       "2.0    18\n",
       "1.0    16\n",
       "Name: DMDEDUC2, dtype: int64"
      ]
     },
     "execution_count": 38,
     "metadata": {},
     "output_type": "execute_result"
    }
   ],
   "source": [
    "no_null_df['DMDEDUC2'].value_counts()"
   ]
  },
  {
   "cell_type": "code",
   "execution_count": 39,
   "metadata": {},
   "outputs": [
    {
     "name": "stderr",
     "output_type": "stream",
     "text": [
      "/var/folders/0h/674kd08n4x31w0wzlnb63lr40000gn/T/ipykernel_8004/4181658730.py:1: SettingWithCopyWarning: \n",
      "A value is trying to be set on a copy of a slice from a DataFrame.\n",
      "Try using .loc[row_indexer,col_indexer] = value instead\n",
      "\n",
      "See the caveats in the documentation: https://pandas.pydata.org/pandas-docs/stable/user_guide/indexing.html#returning-a-view-versus-a-copy\n",
      "  no_null_df[\"DMDEDUC2x\"] = da.DMDEDUC2.replace({1: \"<9\", 2: \"9-11\", 3: \"HS/GED\", 4: \"Some college/AA\", 5: \"College\",\n"
     ]
    },
    {
     "data": {
      "text/plain": [
       "Some college/AA    91\n",
       "College            85\n",
       "HS/GED             49\n",
       "9-11               18\n",
       "<9                 16\n",
       "Name: DMDEDUC2x, dtype: int64"
      ]
     },
     "execution_count": 39,
     "metadata": {},
     "output_type": "execute_result"
    }
   ],
   "source": [
    "no_null_df[\"DMDEDUC2x\"] = da.DMDEDUC2.replace({1: \"<9\", 2: \"9-11\", 3: \"HS/GED\", 4: \"Some college/AA\", 5: \"College\", \n",
    "                                       7: \"Refused\", 9: \"Don't know\"})\n",
    "no_null_df.DMDEDUC2x.value_counts()"
   ]
  },
  {
   "cell_type": "code",
   "execution_count": 40,
   "metadata": {},
   "outputs": [
    {
     "data": {
      "image/png": "[encoded data removed]",
      "text/plain": [
       "<Figure size 1080x576 with 1 Axes>"
      ]
     },
     "metadata": {
      "needs_background": "light"
     },
     "output_type": "display_data"
    }
   ],
   "source": [
    "no_null_df.groupby(['DMDEDUC2x', 'DMDHHSIZ']).size().unstack(fill_value=0).plot.bar(figsize = (15,8))\n",
    "plt.show()"
   ]
  },
  {
   "cell_type": "markdown",
   "metadata": {},
   "source": [
    "__Q5a.__ Comment on any major differences among the distributions."
   ]
  },
  {
   "cell_type": "raw",
   "metadata": {},
   "source": [
    "We see that at the education level of 9-11, the household size is usually 4 implying they might be living with their parents. At the <9 level, it is majorly 2 or 3 people in the household, and the distribution is skerwed to the right (more people in the household). For all the other education levels, we see that the dist is unimodal with 2 members and right skewed. The ones with single person households are probably the people who never got married and the one's with 3 members may be people who live with their parents and havent been married or couples with only 1 child or so on."
   ]
  },
  {
   "cell_type": "markdown",
   "metadata": {},
   "source": [
    "__Q5b.__ Restrict the sample to people between 30 and 40 years of age.  Then calculate the median household size for women and men within each level of educational attainment."
   ]
  },
  {
   "cell_type": "code",
   "execution_count": 41,
   "metadata": {},
   "outputs": [
    {
     "data": {
      "image/png": "[encoded data removed]",
      "text/plain": [
       "<Figure size 1080x576 with 1 Axes>"
      ]
     },
     "metadata": {
      "needs_background": "light"
     },
     "output_type": "display_data"
    }
   ],
   "source": [
    "# insert your code here\n",
    "age_30_40_df = no_null_df.copy()\n",
    "age_30_40_df[\"agegrp\"] = pd.cut(no_null_df.RIDAGEYR, [30, 40])\n",
    "age_30_40_df.groupby(['DMDHHSIZ', 'DMDEDUC2x']).size().unstack(fill_value=0).plot.bar(figsize = (15,8))\n",
    "plt.show()"
   ]
  },
  {
   "cell_type": "code",
   "execution_count": 42,
   "metadata": {},
   "outputs": [
    {
     "data": {
      "text/plain": [
       "3.0"
      ]
     },
     "execution_count": 42,
     "metadata": {},
     "output_type": "execute_result"
    }
   ],
   "source": [
    "age_30_40_df['DMDHHSIZ'].median()"
   ]
  },
  {
   "cell_type": "raw",
   "metadata": {},
   "source": [
    "The median of the household size of people aged 30-40 is 3."
   ]
  },
  {
   "cell_type": "markdown",
   "metadata": {},
   "source": [
    "## Question 6\n",
    "\n",
    "The participants can be clustered into \"maked variance units\" (MVU) based on every combination of the variables [SDMVSTRA](https://wwwn.cdc.gov/Nchs/Nhanes/2015-2016/DEMO_I.htm#SDMVSTRA) and [SDMVPSU](https://wwwn.cdc.gov/Nchs/Nhanes/2015-2016/DEMO_I.htm#SDMVPSU).  Calculate the mean age ([RIDAGEYR](https://wwwn.cdc.gov/Nchs/Nhanes/2015-2016/DEMO_I.htm#RIDAGEYR)), height ([BMXHT](https://wwwn.cdc.gov/Nchs/Nhanes/2015-2016/BMX_I.htm#BMXHT)), and BMI ([BMXBMI](https://wwwn.cdc.gov/Nchs/Nhanes/2015-2016/BMX_I.htm#BMXBMI)) for each gender ([RIAGENDR](https://wwwn.cdc.gov/Nchs/Nhanes/2015-2016/DEMO_I.htm#RIAGENDR)), within each MVU, and report the ratio between the largest and smallest mean (e.g. for height) across the MVUs."
   ]
  },
  {
   "cell_type": "code",
   "execution_count": 43,
   "metadata": {},
   "outputs": [
    {
     "name": "stdout",
     "output_type": "stream",
     "text": [
      "Male agemax: 55.16528925619835\n",
      "Male agemin: 42.06315789473684\n",
      "Male ageratio: 1.3114871069416525\n",
      "\n",
      "Female agemax: 55.63846153846154\n",
      "Female agemin: 42.541666666666664\n",
      "Female ageratio: 1.3078580577111432\n"
     ]
    }
   ],
   "source": [
    "# insert your code here\n",
    "\n",
    "dam = da.where(da.RIAGENDRx == \"Male\")\n",
    "daf = da.where(da.RIAGENDRx == \"Female\")\n",
    "\n",
    "male_agemax = dam.groupby(['SDMVPSU', 'SDMVSTRA'])[\"RIDAGEYR\"].mean().max()\n",
    "male_agemin = dam.groupby(['SDMVPSU', 'SDMVSTRA'])[\"RIDAGEYR\"].mean().min()\n",
    "\n",
    "print(\"Male agemax:\", male_agemax)\n",
    "print(\"Male agemin:\", male_agemin)\n",
    "print(\"Male ageratio:\", male_agemax/male_agemin)\n",
    "\n",
    "print()\n",
    "\n",
    "female_agemax = daf.groupby(['SDMVPSU', 'SDMVSTRA'])[\"RIDAGEYR\"].mean().max()\n",
    "female_agemin = daf.groupby(['SDMVPSU', 'SDMVSTRA'])[\"RIDAGEYR\"].mean().min()\n",
    "\n",
    "print(\"Female agemax:\", female_agemax)\n",
    "print(\"Female agemin:\", female_agemin)\n",
    "print(\"Female ageratio:\", female_agemax/female_agemin)"
   ]
  },
  {
   "cell_type": "code",
   "execution_count": 44,
   "metadata": {},
   "outputs": [
    {
     "name": "stdout",
     "output_type": "stream",
     "text": [
      "Male agemax: 176.9741573033708\n",
      "Male agemin: 169.325\n",
      "Male ageratio: 1.0451744119496282\n",
      "\n",
      "Female agemax: 162.85352112676057\n",
      "Female agemin: 155.40204081632652\n",
      "Female ageratio: 1.047949694040641\n"
     ]
    }
   ],
   "source": [
    "male_heightmax = dam.groupby(['SDMVPSU', 'SDMVSTRA'])[\"BMXHT\"].mean().max()\n",
    "male_heightmin = dam.groupby(['SDMVPSU', 'SDMVSTRA'])[\"BMXHT\"].mean().min()\n",
    "\n",
    "print(\"Male agemax:\", male_heightmax)\n",
    "print(\"Male agemin:\", male_heightmin)\n",
    "print(\"Male ageratio:\", male_heightmax/male_heightmin)\n",
    "\n",
    "print()\n",
    "\n",
    "female_heightmax = daf.groupby(['SDMVPSU', 'SDMVSTRA'])[\"BMXHT\"].mean().max()\n",
    "female_heightmin = daf.groupby(['SDMVPSU', 'SDMVSTRA'])[\"BMXHT\"].mean().min()\n",
    "\n",
    "print(\"Female agemax:\", female_heightmax)\n",
    "print(\"Female agemin:\", female_heightmin)\n",
    "print(\"Female ageratio:\", female_heightmax/female_heightmin)"
   ]
  },
  {
   "cell_type": "code",
   "execution_count": 45,
   "metadata": {},
   "outputs": [
    {
     "name": "stdout",
     "output_type": "stream",
     "text": [
      "Male agemax: 31.749000000000002\n",
      "Male agemin: 25.744444444444444\n",
      "\n",
      "Female agemax: 32.98412698412698\n",
      "Female agemin: 26.470967741935485\n",
      "Female ageratio: 1.2460491548963397\n"
     ]
    }
   ],
   "source": [
    "male_bmimax = dam.groupby(['SDMVPSU', 'SDMVSTRA'])[\"BMXBMI\"].mean().max()\n",
    "male_bmimin = dam.groupby(['SDMVPSU', 'SDMVSTRA'])[\"BMXBMI\"].mean().min()\n",
    "\n",
    "print(\"Male agemax:\", male_bmimax)\n",
    "print(\"Male agemin:\", male_bmimin)\n",
    "\n",
    "print()\n",
    "\n",
    "female_bmimax = daf.groupby(['SDMVPSU', 'SDMVSTRA'])[\"BMXBMI\"].mean().max()\n",
    "female_bmimin = daf.groupby(['SDMVPSU', 'SDMVSTRA'])[\"BMXBMI\"].mean().min()\n",
    "\n",
    "print(\"Female agemax:\", female_bmimax)\n",
    "print(\"Female agemin:\", female_bmimin)\n",
    "print(\"Female ageratio:\", female_bmimax/female_bmimin)"
   ]
  },
  {
   "cell_type": "markdown",
   "metadata": {},
   "source": [
    "__Q6a.__ Comment on the extent to which mean age, height, and BMI vary among the MVUs."
   ]
  },
  {
   "cell_type": "raw",
   "metadata": {},
   "source": [
    "Males and female means for all groups do not vary that much and are in fact very close and similar.  The ratios of both male and female gender groupings are incredibly similiar."
   ]
  },
  {
   "cell_type": "markdown",
   "metadata": {},
   "source": [
    "__Q6b.__ Calculate the inter-quartile range (IQR) for age, height, and BMI for each gender and each MVU.  Report the ratio between the largest and smalles IQR across the MVUs."
   ]
  },
  {
   "cell_type": "code",
   "execution_count": 46,
   "metadata": {},
   "outputs": [
    {
     "name": "stdout",
     "output_type": "stream",
     "text": [
      "\n",
      "AGGREGATE IQR\n",
      "RIDAGEYR IQR:  31.0\n",
      "BMXHT IQR:  14.800000000000011\n",
      "BMXBMI IQR:  8.7\n",
      "\n",
      "MALE IQR\n",
      "RIDAGEYR:  31.0\n",
      "BMXHT:  10.400000000000006\n",
      "BMXBMI:  7.575000000000003\n",
      "\n",
      "FEMALE IQR\n",
      "RIDAGEYR:  30.0\n",
      "BMXHT:  10.100000000000023\n",
      "BMXBMI:  10.0\n",
      "\n",
      "RIDAGEYR GROUPED\n",
      "SDMVSTRA  SDMVPSU\n",
      "119       1          31.25\n",
      "          2          33.00\n",
      "120       1          26.00\n",
      "          2          27.00\n",
      "121       1          31.50\n",
      "          2          25.00\n",
      "122       1          27.00\n",
      "          2          28.75\n",
      "123       1          30.00\n",
      "          2          33.00\n",
      "124       1          30.00\n",
      "          2          26.00\n",
      "125       1          29.50\n",
      "          2          33.75\n",
      "126       1          33.00\n",
      "          2          32.50\n",
      "127       1          29.00\n",
      "          2          27.75\n",
      "128       1          30.00\n",
      "          2          24.00\n",
      "129       1          22.25\n",
      "          2          28.75\n",
      "130       1          35.25\n",
      "          2          29.00\n",
      "131       1          36.00\n",
      "          2          27.00\n",
      "132       1          25.00\n",
      "          2          35.00\n",
      "133       1          33.75\n",
      "          2          31.00\n",
      "Name: RIDAGEYR, dtype: float64\n",
      "\n",
      "BMXHT GROUPED\n",
      "SDMVSTRA  SDMVPSU\n",
      "119       1          12.375\n",
      "          2          13.850\n",
      "120       1          15.250\n",
      "          2          14.000\n",
      "121       1          15.450\n",
      "          2          17.650\n",
      "122       1          14.300\n",
      "          2          14.000\n",
      "123       1          13.250\n",
      "          2          14.800\n",
      "124       1          13.950\n",
      "          2          11.950\n",
      "125       1          14.275\n",
      "          2          15.075\n",
      "126       1          15.100\n",
      "          2          15.825\n",
      "127       1          14.200\n",
      "          2          14.300\n",
      "128       1          15.075\n",
      "          2          14.400\n",
      "129       1          16.025\n",
      "          2          13.350\n",
      "130       1          14.900\n",
      "          2          16.425\n",
      "131       1          14.350\n",
      "          2          13.950\n",
      "132       1          13.575\n",
      "          2          14.425\n",
      "133       1          14.675\n",
      "          2          14.350\n",
      "Name: BMXHT, dtype: float64\n",
      "\n",
      "BMXBMI GROUPED\n",
      "SDMVSTRA  SDMVPSU\n",
      "119       1           8.900\n",
      "          2           7.875\n",
      "120       1           9.300\n",
      "          2           7.600\n",
      "121       1           8.675\n",
      "          2           6.975\n",
      "122       1           8.250\n",
      "          2           5.300\n",
      "123       1           9.150\n",
      "          2           8.700\n",
      "124       1           7.300\n",
      "          2           8.825\n",
      "125       1           8.000\n",
      "          2           9.350\n",
      "126       1           8.700\n",
      "          2           8.950\n",
      "127       1          10.400\n",
      "          2           7.475\n",
      "128       1           7.900\n",
      "          2           7.500\n",
      "129       1           7.100\n",
      "          2           7.675\n",
      "130       1           9.525\n",
      "          2           9.350\n",
      "131       1           8.500\n",
      "          2           9.625\n",
      "132       1           8.350\n",
      "          2          10.525\n",
      "133       1           7.200\n",
      "          2           7.850\n",
      "Name: BMXBMI, dtype: float64\n",
      "\n",
      "Ratio of Max/Min for RIDAGEYR\n",
      "1.6179775280898876\n",
      "\n",
      "Ratio of Max/Min for BMXBHT\n",
      "1.4769874476987432\n",
      "\n",
      "Ratio of Max/Min for BMXBMI\n",
      "1.9858490566037736\n"
     ]
    }
   ],
   "source": [
    "print(\"\\nAGGREGATE IQR\")\n",
    "print(\"RIDAGEYR IQR: \", iqr(da.RIDAGEYR.dropna()))\n",
    "print(\"BMXHT IQR: \", iqr(da.BMXHT.dropna()))\n",
    "print(\"BMXBMI IQR: \", iqr(da.BMXBMI.dropna()))\n",
    "\n",
    "print(\"\\nMALE IQR\")\n",
    "print(\"RIDAGEYR: \", iqr(da.RIDAGEYR.dropna()[da.RIAGENDRx == 'Male']))\n",
    "print(\"BMXHT: \", iqr(da.BMXHT.dropna()[da.RIAGENDRx == 'Male']))\n",
    "print(\"BMXBMI: \", iqr(da.BMXBMI.dropna()[da.RIAGENDRx == 'Male']))\n",
    "\n",
    "print(\"\\nFEMALE IQR\")\n",
    "print(\"RIDAGEYR: \", iqr(da.RIDAGEYR.dropna()[da.RIAGENDRx == 'Female']))\n",
    "print(\"BMXHT: \", iqr(da.BMXHT.dropna()[da.RIAGENDRx == 'Female']))\n",
    "print(\"BMXBMI: \", iqr(da.BMXBMI.dropna()[da.RIAGENDRx == 'Female']))\n",
    "\n",
    "RIDAGEYRGrp = da[da.RIDAGEYR.notna()].groupby(['SDMVSTRA', 'SDMVPSU'])\n",
    "print(\"\\nRIDAGEYR GROUPED\")\n",
    "print(RIDAGEYRGrp[\"RIDAGEYR\"].agg(iqr))\n",
    "\n",
    "BMXHTGrp = da[da.BMXHT.notna()].groupby(['SDMVSTRA', 'SDMVPSU'])\n",
    "print(\"\\nBMXHT GROUPED\")\n",
    "print(BMXHTGrp[\"BMXHT\"].agg(iqr))\n",
    "\n",
    "BMXBMIGrp = da[da.BMXBMI.notna()].groupby(['SDMVSTRA', 'SDMVPSU'])\n",
    "print(\"\\nBMXBMI GROUPED\")\n",
    "print(BMXBMIGrp[\"BMXBMI\"].agg(iqr))\n",
    "\n",
    "print(\"\\nRatio of Max/Min for RIDAGEYR\")\n",
    "print(max(RIDAGEYRGrp[\"RIDAGEYR\"].agg(iqr)) / min(RIDAGEYRGrp[\"RIDAGEYR\"].agg(iqr)))\n",
    "\n",
    "print(\"\\nRatio of Max/Min for BMXBHT\")\n",
    "print(max(BMXHTGrp[\"BMXHT\"].agg(iqr)) / min(BMXHTGrp[\"BMXHT\"].agg(iqr)))\n",
    "\n",
    "print(\"\\nRatio of Max/Min for BMXBMI\")\n",
    "print(max(BMXBMIGrp[\"BMXBMI\"].agg(iqr)) / min(BMXBMIGrp[\"BMXBMI\"].agg(iqr)))"
   ]
  },
  {
   "cell_type": "markdown",
   "metadata": {},
   "source": [
    "__Q6c.__ Comment on the extent to which the IQR for age, height, and BMI vary among the MVUs."
   ]
  },
  {
   "cell_type": "raw",
   "metadata": {},
   "source": []
  }
 ],
 "metadata": {
  "kernelspec": {
   "display_name": "Python 3 (ipykernel)",
   "language": "python",
   "name": "python3"
  },
  "language_info": {
   "codemirror_mode": {
    "name": "ipython",
    "version": 3
   },
   "file_extension": ".py",
   "mimetype": "text/x-python",
   "name": "python",
   "nbconvert_exporter": "python",
   "pygments_lexer": "ipython3",
   "version": "3.10.4"
  }
 },
 "nbformat": 4,
 "nbformat_minor": 2
}
