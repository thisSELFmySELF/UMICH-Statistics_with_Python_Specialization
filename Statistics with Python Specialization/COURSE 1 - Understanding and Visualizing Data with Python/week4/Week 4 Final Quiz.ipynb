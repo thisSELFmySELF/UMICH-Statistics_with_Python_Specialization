{
 "cells": [
  {
   "cell_type": "code",
   "execution_count": 4,
   "id": "643e638c",
   "metadata": {},
   "outputs": [
    {
     "name": "stdout",
     "output_type": "stream",
     "text": [
      "[98.914, 100.997, 100.283]\n"
     ]
    }
   ],
   "source": [
    "# Week 4 Final Quiz\n",
    "\n",
    "# Q1\n",
    "\n",
    "import numpy as np\n",
    "import random\n",
    "\n",
    "# Write your function here\n",
    "np.random.seed(123)\n",
    "\n",
    "mu = 100\n",
    "\n",
    "sigma = 1\n",
    "\n",
    "sample = [np.random.normal(mu, sigma) for _ in range(3)]\n",
    "print([round(num, 3) for num in sample])"
   ]
  },
  {
   "cell_type": "code",
   "execution_count": 2,
   "id": "64a3bf6c",
   "metadata": {},
   "outputs": [
    {
     "data": {
      "text/plain": [
       "array([67, 93, 99, 18, 84, 58, 87, 98, 97, 48])"
      ]
     },
     "execution_count": 2,
     "metadata": {},
     "output_type": "execute_result"
    }
   ],
   "source": [
    "# Q2\n",
    "\n",
    "import random\n",
    "import numpy as np\n",
    "\n",
    "np.random.seed(123)\n",
    "\n",
    "sampSize = 10\n",
    "\n",
    "population = np.arange(1,101)\n",
    "\n",
    "sample = np.random.choice(population, size=sampSize)\n",
    "\n",
    "sample"
   ]
  }
 ],
 "metadata": {
  "kernelspec": {
   "display_name": "Python 3 (ipykernel)",
   "language": "python",
   "name": "python3"
  },
  "language_info": {
   "codemirror_mode": {
    "name": "ipython",
    "version": 3
   },
   "file_extension": ".py",
   "mimetype": "text/x-python",
   "name": "python",
   "nbconvert_exporter": "python",
   "pygments_lexer": "ipython3",
   "version": "3.10.4"
  }
 },
 "nbformat": 4,
 "nbformat_minor": 5
}
