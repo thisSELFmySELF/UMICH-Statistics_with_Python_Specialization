{
 "cells": [
  {
   "cell_type": "markdown",
   "id": "e1e2762a",
   "metadata": {},
   "source": [
    "Practice notebook for confidence intervals using NHANES data\n",
    "\n",
    "This notebook will give you the opportunity to practice working with confidence intervals using the NHANES data.\n",
    "\n",
    "You can enter your code into the cells that say \"enter your code here\", and you can type responses to the questions into the cells that say \"Type Markdown and Latex\".\n",
    "\n",
    "Note that most of the code that you will need to write below is very similar to code that appears in the case study notebook. You will need to edit code from that notebook in small ways to adapt it to the prompts below.\n",
    "\n",
    "To get started, we will use the same module imports and read the data in the same way as we did in the case study:\n"
   ]
  },
  {
   "cell_type": "code",
   "execution_count": 1,
   "id": "5d80729c",
   "metadata": {},
   "outputs": [
    {
     "data": {
      "text/html": [
       "<div>\n",
       "<style scoped>\n",
       "    .dataframe tbody tr th:only-of-type {\n",
       "        vertical-align: middle;\n",
       "    }\n",
       "\n",
       "    .dataframe tbody tr th {\n",
       "        vertical-align: top;\n",
       "    }\n",
       "\n",
       "    .dataframe thead th {\n",
       "        text-align: right;\n",
       "    }\n",
       "</style>\n",
       "<table border=\"1\" class=\"dataframe\">\n",
       "  <thead>\n",
       "    <tr style=\"text-align: right;\">\n",
       "      <th></th>\n",
       "      <th>SEQN</th>\n",
       "      <th>ALQ101</th>\n",
       "      <th>ALQ110</th>\n",
       "      <th>ALQ130</th>\n",
       "      <th>SMQ020</th>\n",
       "      <th>RIAGENDR</th>\n",
       "      <th>RIDAGEYR</th>\n",
       "      <th>RIDRETH1</th>\n",
       "      <th>DMDCITZN</th>\n",
       "      <th>DMDEDUC2</th>\n",
       "      <th>...</th>\n",
       "      <th>BPXSY2</th>\n",
       "      <th>BPXDI2</th>\n",
       "      <th>BMXWT</th>\n",
       "      <th>BMXHT</th>\n",
       "      <th>BMXBMI</th>\n",
       "      <th>BMXLEG</th>\n",
       "      <th>BMXARML</th>\n",
       "      <th>BMXARMC</th>\n",
       "      <th>BMXWAIST</th>\n",
       "      <th>HIQ210</th>\n",
       "    </tr>\n",
       "  </thead>\n",
       "  <tbody>\n",
       "    <tr>\n",
       "      <th>0</th>\n",
       "      <td>83732</td>\n",
       "      <td>1.0</td>\n",
       "      <td>NaN</td>\n",
       "      <td>1.0</td>\n",
       "      <td>1</td>\n",
       "      <td>1</td>\n",
       "      <td>62</td>\n",
       "      <td>3</td>\n",
       "      <td>1.0</td>\n",
       "      <td>5.0</td>\n",
       "      <td>...</td>\n",
       "      <td>124.0</td>\n",
       "      <td>64.0</td>\n",
       "      <td>94.8</td>\n",
       "      <td>184.5</td>\n",
       "      <td>27.8</td>\n",
       "      <td>43.3</td>\n",
       "      <td>43.6</td>\n",
       "      <td>35.9</td>\n",
       "      <td>101.1</td>\n",
       "      <td>2.0</td>\n",
       "    </tr>\n",
       "    <tr>\n",
       "      <th>1</th>\n",
       "      <td>83733</td>\n",
       "      <td>1.0</td>\n",
       "      <td>NaN</td>\n",
       "      <td>6.0</td>\n",
       "      <td>1</td>\n",
       "      <td>1</td>\n",
       "      <td>53</td>\n",
       "      <td>3</td>\n",
       "      <td>2.0</td>\n",
       "      <td>3.0</td>\n",
       "      <td>...</td>\n",
       "      <td>140.0</td>\n",
       "      <td>88.0</td>\n",
       "      <td>90.4</td>\n",
       "      <td>171.4</td>\n",
       "      <td>30.8</td>\n",
       "      <td>38.0</td>\n",
       "      <td>40.0</td>\n",
       "      <td>33.2</td>\n",
       "      <td>107.9</td>\n",
       "      <td>NaN</td>\n",
       "    </tr>\n",
       "    <tr>\n",
       "      <th>2</th>\n",
       "      <td>83734</td>\n",
       "      <td>1.0</td>\n",
       "      <td>NaN</td>\n",
       "      <td>NaN</td>\n",
       "      <td>1</td>\n",
       "      <td>1</td>\n",
       "      <td>78</td>\n",
       "      <td>3</td>\n",
       "      <td>1.0</td>\n",
       "      <td>3.0</td>\n",
       "      <td>...</td>\n",
       "      <td>132.0</td>\n",
       "      <td>44.0</td>\n",
       "      <td>83.4</td>\n",
       "      <td>170.1</td>\n",
       "      <td>28.8</td>\n",
       "      <td>35.6</td>\n",
       "      <td>37.0</td>\n",
       "      <td>31.0</td>\n",
       "      <td>116.5</td>\n",
       "      <td>2.0</td>\n",
       "    </tr>\n",
       "    <tr>\n",
       "      <th>3</th>\n",
       "      <td>83735</td>\n",
       "      <td>2.0</td>\n",
       "      <td>1.0</td>\n",
       "      <td>1.0</td>\n",
       "      <td>2</td>\n",
       "      <td>2</td>\n",
       "      <td>56</td>\n",
       "      <td>3</td>\n",
       "      <td>1.0</td>\n",
       "      <td>5.0</td>\n",
       "      <td>...</td>\n",
       "      <td>134.0</td>\n",
       "      <td>68.0</td>\n",
       "      <td>109.8</td>\n",
       "      <td>160.9</td>\n",
       "      <td>42.4</td>\n",
       "      <td>38.5</td>\n",
       "      <td>37.7</td>\n",
       "      <td>38.3</td>\n",
       "      <td>110.1</td>\n",
       "      <td>2.0</td>\n",
       "    </tr>\n",
       "    <tr>\n",
       "      <th>4</th>\n",
       "      <td>83736</td>\n",
       "      <td>2.0</td>\n",
       "      <td>1.0</td>\n",
       "      <td>1.0</td>\n",
       "      <td>2</td>\n",
       "      <td>2</td>\n",
       "      <td>42</td>\n",
       "      <td>4</td>\n",
       "      <td>1.0</td>\n",
       "      <td>4.0</td>\n",
       "      <td>...</td>\n",
       "      <td>114.0</td>\n",
       "      <td>54.0</td>\n",
       "      <td>55.2</td>\n",
       "      <td>164.9</td>\n",
       "      <td>20.3</td>\n",
       "      <td>37.4</td>\n",
       "      <td>36.0</td>\n",
       "      <td>27.2</td>\n",
       "      <td>80.4</td>\n",
       "      <td>2.0</td>\n",
       "    </tr>\n",
       "  </tbody>\n",
       "</table>\n",
       "<p>5 rows × 28 columns</p>\n",
       "</div>"
      ],
      "text/plain": [
       "    SEQN  ALQ101  ALQ110  ALQ130  SMQ020  RIAGENDR  RIDAGEYR  RIDRETH1  \\\n",
       "0  83732     1.0     NaN     1.0       1         1        62         3   \n",
       "1  83733     1.0     NaN     6.0       1         1        53         3   \n",
       "2  83734     1.0     NaN     NaN       1         1        78         3   \n",
       "3  83735     2.0     1.0     1.0       2         2        56         3   \n",
       "4  83736     2.0     1.0     1.0       2         2        42         4   \n",
       "\n",
       "   DMDCITZN  DMDEDUC2  ...  BPXSY2  BPXDI2  BMXWT  BMXHT  BMXBMI  BMXLEG  \\\n",
       "0       1.0       5.0  ...   124.0    64.0   94.8  184.5    27.8    43.3   \n",
       "1       2.0       3.0  ...   140.0    88.0   90.4  171.4    30.8    38.0   \n",
       "2       1.0       3.0  ...   132.0    44.0   83.4  170.1    28.8    35.6   \n",
       "3       1.0       5.0  ...   134.0    68.0  109.8  160.9    42.4    38.5   \n",
       "4       1.0       4.0  ...   114.0    54.0   55.2  164.9    20.3    37.4   \n",
       "\n",
       "   BMXARML  BMXARMC  BMXWAIST  HIQ210  \n",
       "0     43.6     35.9     101.1     2.0  \n",
       "1     40.0     33.2     107.9     NaN  \n",
       "2     37.0     31.0     116.5     2.0  \n",
       "3     37.7     38.3     110.1     2.0  \n",
       "4     36.0     27.2      80.4     2.0  \n",
       "\n",
       "[5 rows x 28 columns]"
      ]
     },
     "execution_count": 1,
     "metadata": {},
     "output_type": "execute_result"
    }
   ],
   "source": [
    "%matplotlib inline\n",
    "import matplotlib.pyplot as plt\n",
    "import pandas as pd\n",
    "import numpy as np\n",
    "import seaborn as sns\n",
    "import statsmodels.api as sm\n",
    "\n",
    "da = pd.read_csv(\"nhanes_2015_2016.csv\")\n",
    "da.head()"
   ]
  },
  {
   "cell_type": "markdown",
   "id": "0d3ca2c4",
   "metadata": {},
   "source": [
    "### Question 1\n",
    "\n",
    "Restrict the sample to women between 35 and 50, then use the marital status variable DMDMARTL to partition this sample into two groups - women who are currently married, and women who are not currently married. Within each of these groups, calculate the proportion of women who have completed college. Calculate 95% confidence intervals for each of these proportions.\n"
   ]
  },
  {
   "cell_type": "code",
   "execution_count": 2,
   "id": "51aefc38",
   "metadata": {},
   "outputs": [
    {
     "data": {
      "text/html": [
       "<div>\n",
       "<style scoped>\n",
       "    .dataframe tbody tr th:only-of-type {\n",
       "        vertical-align: middle;\n",
       "    }\n",
       "\n",
       "    .dataframe tbody tr th {\n",
       "        vertical-align: top;\n",
       "    }\n",
       "\n",
       "    .dataframe thead th {\n",
       "        text-align: right;\n",
       "    }\n",
       "</style>\n",
       "<table border=\"1\" class=\"dataframe\">\n",
       "  <thead>\n",
       "    <tr style=\"text-align: right;\">\n",
       "      <th></th>\n",
       "      <th>married</th>\n",
       "      <th>college_completed</th>\n",
       "    </tr>\n",
       "  </thead>\n",
       "  <tbody>\n",
       "    <tr>\n",
       "      <th>4</th>\n",
       "      <td>0</td>\n",
       "      <td>0</td>\n",
       "    </tr>\n",
       "    <tr>\n",
       "      <th>34</th>\n",
       "      <td>1</td>\n",
       "      <td>0</td>\n",
       "    </tr>\n",
       "    <tr>\n",
       "      <th>50</th>\n",
       "      <td>1</td>\n",
       "      <td>0</td>\n",
       "    </tr>\n",
       "    <tr>\n",
       "      <th>52</th>\n",
       "      <td>0</td>\n",
       "      <td>0</td>\n",
       "    </tr>\n",
       "    <tr>\n",
       "      <th>55</th>\n",
       "      <td>1</td>\n",
       "      <td>0</td>\n",
       "    </tr>\n",
       "  </tbody>\n",
       "</table>\n",
       "</div>"
      ],
      "text/plain": [
       "    married  college_completed\n",
       "4         0                  0\n",
       "34        1                  0\n",
       "50        1                  0\n",
       "52        0                  0\n",
       "55        1                  0"
      ]
     },
     "execution_count": 2,
     "metadata": {},
     "output_type": "execute_result"
    }
   ],
   "source": [
    "df = da.loc[(da.RIAGENDR == 2) & (da.RIDAGEYR >= 35) & (da.RIDAGEYR <= 50), [\"DMDMARTL\", \"DMDEDUC2\"]]\n",
    "df[\"married\"] = df.DMDMARTL.map({1:1, 2:0, 3:0, 4:0, 5:0, 6:0}) # Unmapped values become NA\n",
    "df[\"college_completed\"] = df.DMDEDUC2.map({1:0, 2:0, 3:0, 4:0, 5:1}) # Unmapped values become NA\n",
    "df = df[[\"married\", \"college_completed\"]].dropna()\n",
    "df.head()"
   ]
  },
  {
   "cell_type": "code",
   "execution_count": 3,
   "id": "3f26b3f7",
   "metadata": {},
   "outputs": [
    {
     "data": {
      "text/html": [
       "<div>\n",
       "<style scoped>\n",
       "    .dataframe tbody tr th:only-of-type {\n",
       "        vertical-align: middle;\n",
       "    }\n",
       "\n",
       "    .dataframe tbody tr th {\n",
       "        vertical-align: top;\n",
       "    }\n",
       "\n",
       "    .dataframe thead th {\n",
       "        text-align: right;\n",
       "    }\n",
       "</style>\n",
       "<table border=\"1\" class=\"dataframe\">\n",
       "  <thead>\n",
       "    <tr style=\"text-align: right;\">\n",
       "      <th>college_completed</th>\n",
       "      <th>0</th>\n",
       "      <th>1</th>\n",
       "    </tr>\n",
       "    <tr>\n",
       "      <th>married</th>\n",
       "      <th></th>\n",
       "      <th></th>\n",
       "    </tr>\n",
       "  </thead>\n",
       "  <tbody>\n",
       "    <tr>\n",
       "      <th>0</th>\n",
       "      <td>266</td>\n",
       "      <td>72</td>\n",
       "    </tr>\n",
       "    <tr>\n",
       "      <th>1</th>\n",
       "      <td>287</td>\n",
       "      <td>162</td>\n",
       "    </tr>\n",
       "  </tbody>\n",
       "</table>\n",
       "</div>"
      ],
      "text/plain": [
       "college_completed    0    1\n",
       "married                    \n",
       "0                  266   72\n",
       "1                  287  162"
      ]
     },
     "execution_count": 3,
     "metadata": {},
     "output_type": "execute_result"
    }
   ],
   "source": [
    "pd.crosstab(df.married, df.college_completed)"
   ]
  },
  {
   "cell_type": "code",
   "execution_count": 4,
   "id": "954df700",
   "metadata": {},
   "outputs": [
    {
     "data": {
      "text/html": [
       "<div>\n",
       "<style scoped>\n",
       "    .dataframe tbody tr th:only-of-type {\n",
       "        vertical-align: middle;\n",
       "    }\n",
       "\n",
       "    .dataframe tbody tr th {\n",
       "        vertical-align: top;\n",
       "    }\n",
       "\n",
       "    .dataframe thead th {\n",
       "        text-align: right;\n",
       "    }\n",
       "</style>\n",
       "<table border=\"1\" class=\"dataframe\">\n",
       "  <thead>\n",
       "    <tr style=\"text-align: right;\">\n",
       "      <th></th>\n",
       "      <th>college_completed</th>\n",
       "      <th>proportion</th>\n",
       "      <th>n</th>\n",
       "    </tr>\n",
       "    <tr>\n",
       "      <th>married</th>\n",
       "      <th></th>\n",
       "      <th></th>\n",
       "      <th></th>\n",
       "    </tr>\n",
       "  </thead>\n",
       "  <tbody>\n",
       "    <tr>\n",
       "      <th>0</th>\n",
       "      <td>72</td>\n",
       "      <td>0.213018</td>\n",
       "      <td>338</td>\n",
       "    </tr>\n",
       "    <tr>\n",
       "      <th>1</th>\n",
       "      <td>162</td>\n",
       "      <td>0.360802</td>\n",
       "      <td>449</td>\n",
       "    </tr>\n",
       "  </tbody>\n",
       "</table>\n",
       "</div>"
      ],
      "text/plain": [
       "         college_completed  proportion    n\n",
       "married                                    \n",
       "0                       72    0.213018  338\n",
       "1                      162    0.360802  449"
      ]
     },
     "execution_count": 4,
     "metadata": {},
     "output_type": "execute_result"
    }
   ],
   "source": [
    "dz = df.groupby([\"married\"]).agg({\"college_completed\":[np.sum,np.mean,np.size]})\n",
    "dz.columns = [\"college_completed\", \"proportion\", \"n\"]\n",
    "dz"
   ]
  },
  {
   "cell_type": "code",
   "execution_count": 5,
   "id": "69f8a889",
   "metadata": {},
   "outputs": [
    {
     "name": "stdout",
     "output_type": "stream",
     "text": [
      "0.1693673655848136 0.25666813737376626\n"
     ]
    }
   ],
   "source": [
    "# Calculate 95% confidence intervals \n",
    "\n",
    "p = dz.proportion[0] # not married proportion\n",
    "n = dz.n[0] # not married total\n",
    "lcb = p - 1.96 * np.sqrt(p * (1 - p) / n)  \n",
    "ucb = p + 1.96 * np.sqrt(p * (1 - p) / n)  \n",
    "print(lcb, ucb)"
   ]
  },
  {
   "cell_type": "code",
   "execution_count": 6,
   "id": "e87bee93",
   "metadata": {},
   "outputs": [
    {
     "name": "stdout",
     "output_type": "stream",
     "text": [
      "0.3163811208674688 0.4052224426069187\n"
     ]
    }
   ],
   "source": [
    "p = dz.proportion[1] #  married proportion\n",
    "n = dz.n[1] # married total\n",
    "lcb = p - 1.96 * np.sqrt(p * (1 - p) / n)  \n",
    "ucb = p + 1.96 * np.sqrt(p * (1 - p) / n)  \n",
    "print(lcb, ucb)"
   ]
  },
  {
   "cell_type": "code",
   "execution_count": 7,
   "id": "04be4ad6",
   "metadata": {},
   "outputs": [
    {
     "data": {
      "text/plain": [
       "(0.16936816767089768, 0.2566673352876822)"
      ]
     },
     "execution_count": 7,
     "metadata": {},
     "output_type": "execute_result"
    }
   ],
   "source": [
    "# 95% CI for the proportion of those not married, completed college\n",
    "sm.stats.proportion_confint(72, 338)  "
   ]
  },
  {
   "cell_type": "code",
   "execution_count": 8,
   "id": "df0274fb",
   "metadata": {},
   "outputs": [
    {
     "data": {
      "text/plain": [
       "(0.31638193710753626, 0.4052216263668512)"
      ]
     },
     "execution_count": 8,
     "metadata": {},
     "output_type": "execute_result"
    }
   ],
   "source": [
    "# 95% CI for the proportion of those married, completed college\n",
    "sm.stats.proportion_confint(162, 449)"
   ]
  },
  {
   "cell_type": "markdown",
   "id": "cf8a64c9",
   "metadata": {},
   "source": [
    "Q1a. Identify which of the two confidence intervals is wider, and explain why this is the case.\n",
    "\n",
    "Despite that the first sample has a higher n value, the second sample has lower standard deviation which compensates for the difference which makes the two samples have a very close confidence interval range. Sample 1 has a wider confidence interval due to the size of the sample but the difference is barely noticeable.\n",
    "\n",
    "Q1b. Write 1-2 sentences summarizing these findings for an audience that does not know what a confidence interval is (the goal here is to report the substance of what you learned about how marital status and educational attainment are related, not to teach a person what a confidence interval is).\n",
    "\n",
    "A higher proportion of women who are currently married have completed their college in comparison to women who are not currently married. 32% to 40% of women who are currently married have completed their college while only 17% to 26% for women who are not married. This is a significant difference between our 2 groups and we are 95% sure in the results."
   ]
  },
  {
   "cell_type": "markdown",
   "id": "f44338e2",
   "metadata": {},
   "source": [
    "### Question 2\n",
    "\n",
    "Construct a 95% confidence interval for the proportion of smokers who are female. Construct a 95% confidence interval for the proportion of smokers who are male. Construct a 95% confidence interval for the difference between those two gender proportions.\n"
   ]
  },
  {
   "cell_type": "code",
   "execution_count": 9,
   "id": "8b1fb28f",
   "metadata": {},
   "outputs": [],
   "source": [
    "df = da.loc[:,:]\n",
    "df[\"smoker\"] = df.SMQ020.map({1: 1, 2: 0})  # np.nan represents a missing value\n",
    "df[\"gender\"] = df.RIAGENDR.map({1: \"Male\", 2: \"Female\"})\n",
    "dx = df[[\"smoker\", \"gender\"]].dropna()"
   ]
  },
  {
   "cell_type": "code",
   "execution_count": 10,
   "id": "0f121ba5",
   "metadata": {
    "scrolled": true
   },
   "outputs": [
    {
     "data": {
      "text/html": [
       "<div>\n",
       "<style scoped>\n",
       "    .dataframe tbody tr th:only-of-type {\n",
       "        vertical-align: middle;\n",
       "    }\n",
       "\n",
       "    .dataframe tbody tr th {\n",
       "        vertical-align: top;\n",
       "    }\n",
       "\n",
       "    .dataframe thead th {\n",
       "        text-align: right;\n",
       "    }\n",
       "</style>\n",
       "<table border=\"1\" class=\"dataframe\">\n",
       "  <thead>\n",
       "    <tr style=\"text-align: right;\">\n",
       "      <th>smoker</th>\n",
       "      <th>0.0</th>\n",
       "      <th>1.0</th>\n",
       "    </tr>\n",
       "    <tr>\n",
       "      <th>gender</th>\n",
       "      <th></th>\n",
       "      <th></th>\n",
       "    </tr>\n",
       "  </thead>\n",
       "  <tbody>\n",
       "    <tr>\n",
       "      <th>Female</th>\n",
       "      <td>2066</td>\n",
       "      <td>906</td>\n",
       "    </tr>\n",
       "    <tr>\n",
       "      <th>Male</th>\n",
       "      <td>1340</td>\n",
       "      <td>1413</td>\n",
       "    </tr>\n",
       "  </tbody>\n",
       "</table>\n",
       "</div>"
      ],
      "text/plain": [
       "smoker   0.0   1.0\n",
       "gender            \n",
       "Female  2066   906\n",
       "Male    1340  1413"
      ]
     },
     "execution_count": 10,
     "metadata": {},
     "output_type": "execute_result"
    }
   ],
   "source": [
    "pd.crosstab(df.gender, df.smoker)"
   ]
  },
  {
   "cell_type": "code",
   "execution_count": 11,
   "id": "fba0d5b0",
   "metadata": {
    "scrolled": true
   },
   "outputs": [
    {
     "data": {
      "text/html": [
       "<div>\n",
       "<style scoped>\n",
       "    .dataframe tbody tr th:only-of-type {\n",
       "        vertical-align: middle;\n",
       "    }\n",
       "\n",
       "    .dataframe tbody tr th {\n",
       "        vertical-align: top;\n",
       "    }\n",
       "\n",
       "    .dataframe thead th {\n",
       "        text-align: right;\n",
       "    }\n",
       "</style>\n",
       "<table border=\"1\" class=\"dataframe\">\n",
       "  <thead>\n",
       "    <tr style=\"text-align: right;\">\n",
       "      <th></th>\n",
       "      <th>smokes</th>\n",
       "      <th>proportion</th>\n",
       "      <th>n</th>\n",
       "    </tr>\n",
       "    <tr>\n",
       "      <th>gender</th>\n",
       "      <th></th>\n",
       "      <th></th>\n",
       "      <th></th>\n",
       "    </tr>\n",
       "  </thead>\n",
       "  <tbody>\n",
       "    <tr>\n",
       "      <th>Female</th>\n",
       "      <td>906.0</td>\n",
       "      <td>0.304845</td>\n",
       "      <td>2976</td>\n",
       "    </tr>\n",
       "    <tr>\n",
       "      <th>Male</th>\n",
       "      <td>1413.0</td>\n",
       "      <td>0.513258</td>\n",
       "      <td>2759</td>\n",
       "    </tr>\n",
       "  </tbody>\n",
       "</table>\n",
       "</div>"
      ],
      "text/plain": [
       "        smokes  proportion     n\n",
       "gender                          \n",
       "Female   906.0    0.304845  2976\n",
       "Male    1413.0    0.513258  2759"
      ]
     },
     "execution_count": 11,
     "metadata": {},
     "output_type": "execute_result"
    }
   ],
   "source": [
    "dz = df.groupby([\"gender\"]).agg({\"smoker\":[np.sum,np.mean,np.size]})\n",
    "dz.columns = [\"smokes\", \"proportion\", \"n\"]\n",
    "dz"
   ]
  },
  {
   "cell_type": "code",
   "execution_count": 12,
   "id": "5bfe4681",
   "metadata": {},
   "outputs": [
    {
     "name": "stdout",
     "output_type": "stream",
     "text": [
      "0.28830581027959534 0.3213846338657613\n"
     ]
    }
   ],
   "source": [
    "# 95% confidence intervals for female\n",
    "\n",
    "p = dz.proportion.Female # female proportion\n",
    "n = dz.n.Female # female total\n",
    "lcb = p - 1.96 * np.sqrt(p * (1 - p) / n)  \n",
    "ucb = p + 1.96 * np.sqrt(p * (1 - p) / n)  \n",
    "print(lcb, ucb)"
   ]
  },
  {
   "cell_type": "code",
   "execution_count": 13,
   "id": "b991e59c",
   "metadata": {
    "scrolled": true
   },
   "outputs": [
    {
     "name": "stdout",
     "output_type": "stream",
     "text": [
      "0.4946074626459384 0.5319090647786893\n"
     ]
    }
   ],
   "source": [
    "# 95% confidence intervals for male\n",
    "\n",
    "p = dz.proportion.Male # male proportion\n",
    "n = dz.n.Male # male total\n",
    "lcb = p - 1.96 * np.sqrt(p * (1 - p) / n)  \n",
    "ucb = p + 1.96 * np.sqrt(p * (1 - p) / n)  \n",
    "print(lcb, ucb)"
   ]
  },
  {
   "cell_type": "code",
   "execution_count": 14,
   "id": "f1df9ce8",
   "metadata": {},
   "outputs": [
    {
     "name": "stdout",
     "output_type": "stream",
     "text": [
      "0.008438475404634192\n"
     ]
    }
   ],
   "source": [
    "# Calculate standard error for female\n",
    "\n",
    "p = dz.proportion.Female # Female proportion\n",
    "n = dz.n.Female # Total number of females\n",
    "se_female = np.sqrt(p * (1 - p) / n)\n",
    "print(se_female)"
   ]
  },
  {
   "cell_type": "code",
   "execution_count": 15,
   "id": "c6b1f8d2",
   "metadata": {},
   "outputs": [
    {
     "name": "stdout",
     "output_type": "stream",
     "text": [
      "0.009515714829783395\n"
     ]
    }
   ],
   "source": [
    "# Calculate standard error for male\n",
    "p = dz.proportion.Male # Male proportion\n",
    "n = dz.n.Male # Total number of males\n",
    "se_male = np.sqrt(p * (1 - p) / n)\n",
    "print(se_male)"
   ]
  },
  {
   "cell_type": "code",
   "execution_count": 16,
   "id": "8cbbf642",
   "metadata": {},
   "outputs": [
    {
     "data": {
      "text/plain": [
       "0.012718360581316123"
      ]
     },
     "execution_count": 16,
     "metadata": {},
     "output_type": "execute_result"
    }
   ],
   "source": [
    "# 95% confidence interval for the difference between those two gender proportions\n",
    "\n",
    "se_diff = np.sqrt(se_female**2 + se_male**2)\n",
    "se_diff"
   ]
  },
  {
   "cell_type": "code",
   "execution_count": 17,
   "id": "d03c8963",
   "metadata": {},
   "outputs": [
    {
     "name": "stdout",
     "output_type": "stream",
     "text": [
      "-0.23384976280226777 -0.1829763204770033\n"
     ]
    }
   ],
   "source": [
    "d = dz.proportion.Female - dz.proportion.Male\n",
    "lcb = d - 2 * se_diff\n",
    "ucb = d + 2 * se_diff\n",
    "print(lcb, ucb)"
   ]
  },
  {
   "cell_type": "markdown",
   "id": "6cefa00d",
   "metadata": {},
   "source": [
    "Q2a. Why might it be relevant to report the separate gender proportions and the difference between the gender proportions?\n",
    "\n",
    "It is important to find the proportion of smokers who are female vs proportion of smokers who are male in order to compare the two genders. The proportion of smokers who are male is higher than the proportion of smokers who are female. 58% to 63% of smokers are male while 36% to 42% of smokers are female.\n",
    "\n",
    "Q2b. How does the width of the confidence interval for the difference between the gender proportions compare to the widths of the confidence intervals for the separate gender proportions?\n",
    "\n",
    "The confidence interval for the difference of the two proportions is wider than the confidence intervals for each proportion separately."
   ]
  },
  {
   "cell_type": "markdown",
   "id": "2aec191d",
   "metadata": {},
   "source": [
    "### Question 3\n",
    "\n",
    "Construct a 95% interval for height (BMXHT) in centimeters. Then convert height from centimeters to inches by dividing by 2.54, and construct a 95% confidence interval for height in inches. Finally, convert the endpoints (the lower and upper confidence limits) of the confidence interval from inches to back to centimeters\n"
   ]
  },
  {
   "cell_type": "code",
   "execution_count": 18,
   "id": "dcea1375",
   "metadata": {},
   "outputs": [],
   "source": [
    "# Population mean question.  Note : 95% confidence level formula is different\n",
    "\n",
    "height_cm = da['BMXHT']"
   ]
  },
  {
   "cell_type": "code",
   "execution_count": 19,
   "id": "3d496b33",
   "metadata": {},
   "outputs": [],
   "source": [
    "height_cm = height_cm[~height_cm.isna()]\n",
    "height_cm.reset_index(inplace=True, drop=True)"
   ]
  },
  {
   "cell_type": "code",
   "execution_count": 20,
   "id": "f591bb5a",
   "metadata": {},
   "outputs": [
    {
     "data": {
      "text/plain": [
       "166.1428344791116"
      ]
     },
     "execution_count": 20,
     "metadata": {},
     "output_type": "execute_result"
    }
   ],
   "source": [
    "# In cm\n",
    "\n",
    "np.mean(height_cm)"
   ]
  },
  {
   "cell_type": "code",
   "execution_count": 21,
   "id": "f29c3637",
   "metadata": {},
   "outputs": [
    {
     "data": {
      "text/plain": [
       "10.078375319383923"
      ]
     },
     "execution_count": 21,
     "metadata": {},
     "output_type": "execute_result"
    }
   ],
   "source": [
    "# Calculate std\n",
    "\n",
    "std_height_cm = np.std(height_cm)\n",
    "std_height_cm"
   ]
  },
  {
   "cell_type": "code",
   "execution_count": 22,
   "id": "89f07ed0",
   "metadata": {},
   "outputs": [],
   "source": [
    "# Calculate size/total\n",
    "\n",
    "n = np.size(height_cm)"
   ]
  },
  {
   "cell_type": "code",
   "execution_count": 23,
   "id": "ad166706",
   "metadata": {},
   "outputs": [
    {
     "name": "stdout",
     "output_type": "stream",
     "text": [
      "Lower Boundary cm:  165.8805695573689\n",
      "Upper Boundary cm:  166.4050994008543\n"
     ]
    }
   ],
   "source": [
    "print('Lower Boundary cm: ', np.mean(height_cm) - 1.96 * (std_height_cm / np.sqrt(n)))\n",
    "print('Upper Boundary cm: ', np.mean(height_cm) + 1.96 * (std_height_cm / np.sqrt(n)))  "
   ]
  },
  {
   "cell_type": "code",
   "execution_count": 24,
   "id": "26135ba6",
   "metadata": {},
   "outputs": [
    {
     "data": {
      "text/plain": [
       "(165.8804952776014, 166.40517368062174)"
      ]
     },
     "execution_count": 24,
     "metadata": {},
     "output_type": "execute_result"
    }
   ],
   "source": [
    "sm.stats.DescrStatsW(height_cm).tconfint_mean()"
   ]
  },
  {
   "cell_type": "code",
   "execution_count": 25,
   "id": "1afb3618",
   "metadata": {},
   "outputs": [],
   "source": [
    "# In inches\n",
    "\n",
    "height_inches = height_cm / 2.54"
   ]
  },
  {
   "cell_type": "code",
   "execution_count": 26,
   "id": "fcc83231",
   "metadata": {},
   "outputs": [],
   "source": [
    "height_inches = height_inches[~height_inches.isna()]\n",
    "height_inches.reset_index(inplace=True, drop=True)"
   ]
  },
  {
   "cell_type": "code",
   "execution_count": 27,
   "id": "4b1b2ffe",
   "metadata": {},
   "outputs": [
    {
     "data": {
      "text/plain": [
       "65.41056475555574"
      ]
     },
     "execution_count": 27,
     "metadata": {},
     "output_type": "execute_result"
    }
   ],
   "source": [
    "np.mean(height_inches)"
   ]
  },
  {
   "cell_type": "code",
   "execution_count": 28,
   "id": "203adabb",
   "metadata": {},
   "outputs": [
    {
     "data": {
      "text/plain": [
       "3.9678642989700483"
      ]
     },
     "execution_count": 28,
     "metadata": {},
     "output_type": "execute_result"
    }
   ],
   "source": [
    "std_height_inches = np.std(height_inches)\n",
    "std_height_inches"
   ]
  },
  {
   "cell_type": "code",
   "execution_count": 29,
   "id": "9ba04e6c",
   "metadata": {},
   "outputs": [
    {
     "name": "stdout",
     "output_type": "stream",
     "text": [
      "Lower Boundary Inches:  65.30731084935782\n",
      "Upper Boundary Inches:  65.51381866175366\n"
     ]
    }
   ],
   "source": [
    "print('Lower Boundary Inches: ', np.mean(height_inches) - 1.96 * (std_height_inches / np.sqrt(n)))\n",
    "print('Upper Boundary Inches: ', np.mean(height_inches) + 1.96 * (std_height_inches / np.sqrt(n)))"
   ]
  },
  {
   "cell_type": "code",
   "execution_count": 30,
   "id": "01bf38ec",
   "metadata": {},
   "outputs": [
    {
     "data": {
      "text/plain": [
       "(65.30728160535489, 65.51384790575659)"
      ]
     },
     "execution_count": 30,
     "metadata": {},
     "output_type": "execute_result"
    }
   ],
   "source": [
    "sm.stats.DescrStatsW(height_inches).tconfint_mean()"
   ]
  },
  {
   "cell_type": "markdown",
   "id": "9616efd2",
   "metadata": {},
   "source": [
    "Q3a. Describe how the confidence interval constructed in centimeters relates to the confidence interval constructed in inches.\n",
    "\n",
    "The lower and upper boundary for both cm and inches are so close to each other."
   ]
  },
  {
   "cell_type": "markdown",
   "id": "9d60732a",
   "metadata": {},
   "source": [
    "### Question 4\n",
    "\n",
    "Partition the sample based on 10-year age bands, i.e. the resulting groups will consist of people with ages from 18-28, 29-38, etc. Construct 95% confidence intervals for the difference between the mean BMI for females and for males within each age band."
   ]
  },
  {
   "cell_type": "code",
   "execution_count": 31,
   "id": "08e37fe3",
   "metadata": {},
   "outputs": [
    {
     "name": "stdout",
     "output_type": "stream",
     "text": [
      "[18, 28]\n",
      "pooled:  -1.741339639227411 , 0.034817164017523994\n",
      "pooled diff:  -1.706522475209887\n",
      "---------------------------------------------------------------------------------------\n",
      "[29, 38]\n",
      "pooled:  -1.1877114002496385 , 0.6951862411159043\n",
      "pooled diff:  -0.4925251591337342\n",
      "---------------------------------------------------------------------------------------\n",
      "[39, 48]\n",
      "pooled:  -2.4438533490140424 , -0.5343193405535154\n",
      "pooled diff:  -1.909534008460527\n",
      "---------------------------------------------------------------------------------------\n",
      "[49, 58]\n",
      "pooled:  -2.3314902075137223 , -0.4729688416549196\n",
      "pooled diff:  -1.8585213658588027\n",
      "---------------------------------------------------------------------------------------\n",
      "[59, 68]\n",
      "pooled:  -2.7191581021392035 , -0.9252456993910773\n",
      "pooled diff:  -1.7939124027481261\n",
      "---------------------------------------------------------------------------------------\n",
      "[69, 78]\n",
      "pooled:  -2.8169097637577014 , -0.8181860593381438\n",
      "pooled diff:  -1.9987237044195576\n",
      "---------------------------------------------------------------------------------------\n",
      "[79, 88]\n",
      "pooled:  -1.4339280761211892 , 0.6626637083050806\n",
      "pooled diff:  -0.7712643678161086\n",
      "---------------------------------------------------------------------------------------\n"
     ]
    }
   ],
   "source": [
    "for val in [[18, 28], [29, 38], [39, 48], [49, 58], [59, 68], [69, 78], [79, 88]]:\n",
    "    da_year_band = da[(da['RIDAGEYR'] >= val[0]) & (da['RIDAGEYR'] <= val[1])]\n",
    "    da_year_band.reset_index(inplace=True, drop=True)\n",
    "    \n",
    "    bmi_males = da_year_band[da_year_band['RIAGENDR'] == 1]['BMXBMI']\n",
    "    bmi_females = da_year_band[da_year_band['RIAGENDR'] == 2]['BMXBMI']\n",
    "    \n",
    "    bmi_males = bmi_males[~bmi_males.isna()]\n",
    "    bmi_males.reset_index(inplace = True, drop = True)\n",
    "    bmi_females = bmi_females[~bmi_females.isna()]\n",
    "    bmi_females.reset_index(inplace = True, drop = True)\n",
    "    \n",
    "    bmi_males_temp = sm.stats.DescrStatsW(bmi_males)\n",
    "    bmi_females_temp = sm.stats.DescrStatsW(bmi_females)\n",
    "    \n",
    "    cm = sm.stats.CompareMeans(bmi_males_temp, bmi_females_temp)\n",
    "    lower, upper = cm.tconfint_diff(usevar = 'pooled')\n",
    "    print(val)\n",
    "    print(\"pooled: \", lower, \",\", upper)\n",
    "    print(\"pooled diff: \", abs(upper) - abs(lower))\n",
    "    print('---------------------------------------------------------------------------------------')"
   ]
  },
  {
   "cell_type": "code",
   "execution_count": 32,
   "id": "89dbd26e",
   "metadata": {},
   "outputs": [],
   "source": [
    "# # usual replacements to follow the problem\n",
    "# da['RIAGENDRx'] = da.RIAGENDR.replace({2: \"Female\", 1:\"Male\"})\n",
    "# da['DMDMARTLx'] = da.DMDMARTL.replace({1: \"Married\", 2: \"Widowed\", 3:\"Divorced\", 4: \"Separated\",\\\n",
    "#                                        5: \"Never Married\", 6: \"Living with partner\", 77: \"Refused\",\\\n",
    "#                                        99: \"Do not know\", np.nan: 'Missing'})\n",
    "\n",
    "# da['DMDEDUC2x'] = da.DMDEDUC2.replace({1: '<9', 2:'9-11', 3:'High school', 4:'Some college',\\\n",
    "#                                       5:'College', 7:'Refused', 9:\"Do not know\", np.nan: 'Missing'})\n",
    "\n",
    "# #define the bins and then create them in a new column; \n",
    "# bins=[18, 28, 38, 48, 58, 68 , 80]\n",
    "# da['agegrp'] = pd.cut(da.RIDAGEYR, bins, include_lowest=True,\\\n",
    "#                       labels=['[18,28]', '[29,38]', '[39,48]','[49,58]', '[59,68]', '[69,80]'])\n",
    "                                                                      \n",
    "# #dropping NaN values from BMXBMI (along with corresponding line from agegrp and RIAGENDRx)                                                                     \n",
    "# da.dropna(subset=['agegrp','BMXBMI','RIAGENDRx'], how='any', inplace=True)\n",
    "# db = da[['agegrp', 'BMXBMI', 'RIAGENDRx']]\n",
    "# dc = db.groupby(['agegrp','RIAGENDRx']).agg({'BMXBMI':[np.mean,np.std,np.size]})\n",
    "# dc.sort_index(inplace=True) #need to sort in order to access the elements of dc (i get an error if i don't)\n",
    "\n",
    "# #Create a list for all 12 Standard Errors (for Female and Male for each age-group)\n",
    "# list_SE = []\n",
    "# for row in dc.iterrows():\n",
    "#     SE = row[1][1] / np.sqrt(row[1][2])\n",
    "#     list_SE.append(SE)\n",
    "\n",
    "# #Create a list for all 6 Differences between SEs for each (gender)pair, for each age-group\n",
    "# list_sem_diff = []\n",
    "# for index, val in enumerate(list_SE):\n",
    "#     if index % 2 == 0:\n",
    "#         sem_diff = np.sqrt(list_SE[index] ** 2 + list_SE[index + 1] ** 2)\n",
    "#         list_sem_diff.append(sem_diff)\n",
    "\n",
    "# #Extract all 12 Means from the groupby (For Female and Male for each age-group)\n",
    "# list_mean = []\n",
    "# for row in dc.iterrows():\n",
    "#     means = row[1][0]\n",
    "#     list_mean.append(means)\n",
    "\n",
    "# #Create a list with all 6 Differences between Means for each (gender)pair, for each age-group\n",
    "# list_mean_diff = []\n",
    "# for index, val in enumerate(list_mean): #i don't need the val (but I get an error if i don't write it)\n",
    "#     if index % 2 == 0:\n",
    "#         mean_diff = list_mean[index] - list_mean[index + 1]\n",
    "#         list_mean_diff.append(mean_diff)\n",
    "\n",
    "# #Confidence interval for each final pair\n",
    "# list_CI = []\n",
    "# for i in range(0,6):\n",
    "#     lcb = list_mean_diff[i] - 1.96 * list_sem_diff[i]\n",
    "#     ucb = list_mean_diff[i] + 1.96 * list_sem_diff[i]\n",
    "#     CI = (lcb,ucb)\n",
    "#     list_CI.append(CI)\n",
    "\n",
    "# #Created a list for each age group so I can print in a nice form\n",
    "# list_agegrp = []\n",
    "# for i in range (0,12):\n",
    "#     if i % 2 == 1:\n",
    "#         list_agegrp.append(dc.index[i][0])\n",
    "        \n",
    "# for i in range (0,6):\n",
    "#     print('95% Confidence Interval for', list_agegrp[i],'is =', list_CI[i])"
   ]
  },
  {
   "cell_type": "markdown",
   "id": "bcbc66fd",
   "metadata": {},
   "source": [
    "Q4a. How do the widths of these confidence intervals differ? Provide an explanation for any substantial diferences in the confidence interval widths that you see.\n",
    "\n",
    "The confidence interval width for the age groups is fairly equal except for the [29, 38] and [79, 88] where the width is much smaller between males and females."
   ]
  },
  {
   "cell_type": "markdown",
   "id": "29b255da",
   "metadata": {},
   "source": [
    "### Question 5\n",
    "\n",
    "Construct a 95% confidence interval for the first and second systolic blood pressure measures, and for the difference between the first and second systolic blood pressure measurements within a subject.\n"
   ]
  },
  {
   "cell_type": "code",
   "execution_count": 33,
   "id": "b95ab241",
   "metadata": {},
   "outputs": [],
   "source": [
    "# enter code here\n",
    "\n",
    "sys1 = da.BPXSY1\n",
    "sys2 = da.BPXSY2\n",
    "sys_diff = sys1 - sys2\n",
    "\n",
    "sys1 = sys1[~sys1.isna()]\n",
    "sys1.reset_index(inplace=True, drop=True)\n",
    "\n",
    "sys2 = sys2[~sys2.isna()]\n",
    "sys2.reset_index(inplace=True, drop=True)\n",
    "\n",
    "sys_diff = sys_diff[~sys_diff.isna()]\n",
    "sys_diff.reset_index(inplace=True, drop=True)"
   ]
  },
  {
   "cell_type": "code",
   "execution_count": 34,
   "id": "1f8a8af5",
   "metadata": {},
   "outputs": [],
   "source": [
    "# Calculate size/total\n",
    "\n",
    "sys1_n = np.size(sys1)\n",
    "sys2_n = np.size(sys2)"
   ]
  },
  {
   "cell_type": "code",
   "execution_count": 35,
   "id": "d2a94a40",
   "metadata": {},
   "outputs": [],
   "source": [
    "# Calculate std\n",
    "\n",
    "std_sys1 = np.std(sys1)\n",
    "std_sys2 = np.std(sys2)"
   ]
  },
  {
   "cell_type": "code",
   "execution_count": 36,
   "id": "74dc04c1",
   "metadata": {},
   "outputs": [
    {
     "name": "stdout",
     "output_type": "stream",
     "text": [
      "Lower Boundary:  124.59177929452376\n",
      "Upper Boundary:  125.57744862623166\n"
     ]
    }
   ],
   "source": [
    "# Confidence level BPXSY1\n",
    "\n",
    "print('Lower Boundary: ', np.mean(sys1) - 1.96 * (std_sys1 / np.sqrt(sys1_n)))\n",
    "print('Upper Boundary: ', np.mean(sys1) + 1.96 * (std_sys1 / np.sqrt(sys1_n)))  "
   ]
  },
  {
   "cell_type": "code",
   "execution_count": 37,
   "id": "606fd3b9",
   "metadata": {},
   "outputs": [
    {
     "name": "stdout",
     "output_type": "stream",
     "text": [
      "Lower Boundary:  124.2949681943591\n",
      "Upper Boundary:  125.27106613265083\n"
     ]
    }
   ],
   "source": [
    "# Confidence level BPXSY2\n",
    "\n",
    "print('Lower Boundary: ', np.mean(sys2) - 1.96 * (std_sys2 / np.sqrt(sys2_n)))\n",
    "print('Upper Boundary: ', np.mean(sys2) + 1.96 * (std_sys2 / np.sqrt(sys2_n)))  "
   ]
  },
  {
   "cell_type": "code",
   "execution_count": 38,
   "id": "dc44ded8",
   "metadata": {},
   "outputs": [
    {
     "name": "stdout",
     "output_type": "stream",
     "text": [
      "0.5399696008802797 , 0.8100024609561889\n"
     ]
    }
   ],
   "source": [
    "# Difference between first and second\n",
    "\n",
    "lower, upper = sm.stats.DescrStatsW(sys_diff).tconfint_mean()\n",
    "print(lower, \",\", upper)"
   ]
  },
  {
   "cell_type": "markdown",
   "id": "108cbbb5",
   "metadata": {},
   "source": [
    "Q5a. Based on these confidence intervals, would you say that a difference of zero between the population mean values of the first and second systolic blood pressure measures is consistent with the data?\n",
    "\n",
    "Yes as zero is included in the confidence interval of the first and second systolic blood pressure measures difference.\n",
    "\n",
    "Q5b. Discuss how the width of the confidence interval for the within-subject difference compares to the widths of the confidence intervals for the first and second measures.\n",
    "\n",
    "The width of the within-subject difference is lower (narrower) in comparison to the widths of the confidence intervals for the first and second measures."
   ]
  },
  {
   "cell_type": "markdown",
   "id": "82ab826d",
   "metadata": {},
   "source": [
    "### Question 6\n",
    "\n",
    "Construct a 95% confidence interval for the mean difference between the average age of a smoker, and the average age of a non-smoker.\n"
   ]
  },
  {
   "cell_type": "code",
   "execution_count": 39,
   "id": "cc6e03c6",
   "metadata": {},
   "outputs": [],
   "source": [
    "smokers_age = da[da['SMQ020']==1]['RIDAGEYR']\n",
    "smokers_age = smokers_age[~smokers_age.isna()]\n",
    "smokers_age.reset_index(inplace=True, drop=True)\n",
    "\n",
    "non_smokers_age = da[da['SMQ020'] != 1]['RIDAGEYR']\n",
    "non_smokers_age = non_smokers_age[~non_smokers_age.isna()]\n",
    "non_smokers_age.reset_index(inplace=True, drop=True)"
   ]
  },
  {
   "cell_type": "code",
   "execution_count": 40,
   "id": "0f6e50c9",
   "metadata": {},
   "outputs": [
    {
     "name": "stdout",
     "output_type": "stream",
     "text": [
      "pooled:  5.833562476381499 , 7.746041103858306\n"
     ]
    }
   ],
   "source": [
    "# Confidence interval for mean diffrence\n",
    "\n",
    "smoke =sm.stats.DescrStatsW(smokers_age)\n",
    "non_smoke =sm.stats.DescrStatsW(non_smokers_age)\n",
    "\n",
    "cm = sm.stats.CompareMeans(smoke, non_smoke)\n",
    "lower, upper = cm.tconfint_diff(usevar='pooled')\n",
    "print(\"pooled: \", lower, \",\", upper)"
   ]
  },
  {
   "cell_type": "markdown",
   "id": "c288bce6",
   "metadata": {},
   "source": [
    "Q6a. Use graphical and numerical techniques to compare the variation in the ages of smokers to the variation in the ages of non-smokers. "
   ]
  },
  {
   "cell_type": "code",
   "execution_count": 41,
   "id": "84ebe0f4",
   "metadata": {},
   "outputs": [
    {
     "data": {
      "text/plain": [
       "count    2319.000000\n",
       "mean       52.096593\n",
       "std        17.461141\n",
       "min        18.000000\n",
       "25%        37.000000\n",
       "50%        54.000000\n",
       "75%        66.000000\n",
       "max        80.000000\n",
       "Name: RIDAGEYR, dtype: float64"
      ]
     },
     "execution_count": 41,
     "metadata": {},
     "output_type": "execute_result"
    }
   ],
   "source": [
    "smokers_age.describe()"
   ]
  },
  {
   "cell_type": "code",
   "execution_count": 42,
   "id": "52f8c45b",
   "metadata": {},
   "outputs": [
    {
     "data": {
      "text/plain": [
       "<AxesSubplot:>"
      ]
     },
     "execution_count": 42,
     "metadata": {},
     "output_type": "execute_result"
    },
    {
     "data": {
      "image/png": "[encoded data removed]",
      "text/plain": [
       "<Figure size 432x288 with 1 Axes>"
      ]
     },
     "metadata": {
      "needs_background": "light"
     },
     "output_type": "display_data"
    }
   ],
   "source": [
    "# insert your code here\n",
    "sns.boxplot(smokers_age)"
   ]
  },
  {
   "cell_type": "code",
   "execution_count": 43,
   "id": "6d7f734f",
   "metadata": {},
   "outputs": [
    {
     "data": {
      "text/plain": [
       "count    3416.000000\n",
       "mean       45.306792\n",
       "std        18.568337\n",
       "min        18.000000\n",
       "25%        29.000000\n",
       "50%        44.000000\n",
       "75%        60.000000\n",
       "max        80.000000\n",
       "Name: RIDAGEYR, dtype: float64"
      ]
     },
     "execution_count": 43,
     "metadata": {},
     "output_type": "execute_result"
    }
   ],
   "source": [
    "non_smokers_age.describe()"
   ]
  },
  {
   "cell_type": "code",
   "execution_count": 44,
   "id": "d9816040",
   "metadata": {},
   "outputs": [
    {
     "data": {
      "text/plain": [
       "<AxesSubplot:>"
      ]
     },
     "execution_count": 44,
     "metadata": {},
     "output_type": "execute_result"
    },
    {
     "data": {
      "image/png": "[encoded data removed]",
      "text/plain": [
       "<Figure size 432x288 with 1 Axes>"
      ]
     },
     "metadata": {
      "needs_background": "light"
     },
     "output_type": "display_data"
    }
   ],
   "source": [
    "sns.boxplot(non_smokers_age)"
   ]
  },
  {
   "cell_type": "code",
   "execution_count": 45,
   "id": "e85bd1b1",
   "metadata": {},
   "outputs": [
    {
     "data": {
      "text/plain": [
       "<AxesSubplot:xlabel='RIDAGEYR', ylabel='Count'>"
      ]
     },
     "execution_count": 45,
     "metadata": {},
     "output_type": "execute_result"
    },
    {
     "data": {
      "image/png": "[encoded data removed]",
      "text/plain": [
       "<Figure size 432x288 with 1 Axes>"
      ]
     },
     "metadata": {
      "needs_background": "light"
     },
     "output_type": "display_data"
    }
   ],
   "source": [
    "sns.histplot(smokers_age)"
   ]
  },
  {
   "cell_type": "code",
   "execution_count": 46,
   "id": "24b08e02",
   "metadata": {},
   "outputs": [
    {
     "data": {
      "text/plain": [
       "<AxesSubplot:xlabel='RIDAGEYR', ylabel='Count'>"
      ]
     },
     "execution_count": 46,
     "metadata": {},
     "output_type": "execute_result"
    },
    {
     "data": {
      "image/png": "[encoded data removed]",
      "text/plain": [
       "<Figure size 432x288 with 1 Axes>"
      ]
     },
     "metadata": {
      "needs_background": "light"
     },
     "output_type": "display_data"
    }
   ],
   "source": [
    "sns.histplot(non_smokers_age)"
   ]
  },
  {
   "cell_type": "markdown",
   "id": "c837862c",
   "metadata": {},
   "source": [
    "Q6b. Does it appear that uncertainty about the mean age of smokers, or uncertainty about the mean age of non-smokers contributed more to the uncertainty for the mean difference that we are focusing on here?\n",
    "\n",
    "Bigger margin on smokers, but still the difference is significant between populations. Distributions are skewed but samples sizes are big enough."
   ]
  }
 ],
 "metadata": {
  "kernelspec": {
   "display_name": "Python 3 (ipykernel)",
   "language": "python",
   "name": "python3"
  },
  "language_info": {
   "codemirror_mode": {
    "name": "ipython",
    "version": 3
   },
   "file_extension": ".py",
   "mimetype": "text/x-python",
   "name": "python",
   "nbconvert_exporter": "python",
   "pygments_lexer": "ipython3",
   "version": "3.10.4"
  }
 },
 "nbformat": 4,
 "nbformat_minor": 5
}
